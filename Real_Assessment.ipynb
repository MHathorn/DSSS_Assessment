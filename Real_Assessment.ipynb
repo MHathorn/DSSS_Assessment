{
 "cells": [
  {
   "cell_type": "markdown",
   "id": "72851fb0-45ba-440b-ac41-2aaa768e541b",
   "metadata": {},
   "source": [
    "# DSSS: Assessing London Housing Prices"
   ]
  },
  {
   "cell_type": "markdown",
   "id": "c414bbf0-d266-4494-b68f-ea3738b22f4d",
   "metadata": {},
   "source": [
    "I aim to answer the following research questions:\n",
    "\n",
    "What are the main factors that influence property values in London according to a random forest model based on London census data?\n",
    "How do property values vary across London opportunity areas and adjacent areas using a regression discontinuity design?\n",
    "My main data source will be the 2021 census, which provides comprehensive data on London’s population characteristics such as age, sex, ethnicity, religion, education, occupation, income, housing tenure, and so on.\n",
    "\n",
    "My outcome variable will be median property value per LSOA, from HMRC price paid data. The random forest technique will be applied to build a model for property value based on the independent variables. The regression discontinuity design will be applied to compare property values between opportunity areas (treatment group) and adjacent areas (control group) using distance from opportunity area boundary as the assignment variable. The assumption is that properties close to the boundary are similar in other aspects except for their location within or outside an opportunity area. The causal effect of being in an opportunity area on property value will be estimated by fitting local linear regressions on both sides of the boundary.\n",
    "\n"
   ]
  },
  {
   "cell_type": "markdown",
   "id": "b432eb31-d0a3-4a91-90f8-62498972b4d3",
   "metadata": {},
   "source": [
    "Introduction "
   ]
  },
  {
   "cell_type": "markdown",
   "id": "45ad9bf3-ab7a-4c7a-961f-06efba00f828",
   "metadata": {},
   "source": [
    "Literature review "
   ]
  },
  {
   "cell_type": "markdown",
   "id": "95be728e-a639-4704-95a7-d14d77529744",
   "metadata": {},
   "source": [
    "Research question "
   ]
  },
  {
   "cell_type": "markdown",
   "id": "d3ccf9aa-e718-4f94-98c2-a59bf231d2f1",
   "metadata": {},
   "source": [
    "Presentation of data "
   ]
  },
  {
   "cell_type": "markdown",
   "id": "ae14c1ca-09b2-4e96-b595-e9fda5e5d61a",
   "metadata": {},
   "source": [
    "## Data Importing"
   ]
  },
  {
   "cell_type": "code",
   "execution_count": null,
   "id": "a1ef10de-af91-4277-8afd-2b5eacf40682",
   "metadata": {},
   "outputs": [],
   "source": [
    "pip install UKCensusAPI\n",
    "pip install skimpy"
   ]
  },
  {
   "cell_type": "code",
   "execution_count": 3,
   "id": "9a586935-392f-442f-9e26-1b0ff8d800bd",
   "metadata": {},
   "outputs": [],
   "source": [
    "import ukcensusapi.Nomisweb as census_api\n",
    "import numpy as np\n",
    "import pandas as pd\n",
    "import os\n",
    "import matplotlib.pyplot as plt\n",
    "\n",
    "from skimpy import clean_columns\n",
    "\n",
    "import sklearn\n",
    "from sklearn.model_selection import train_test_split, GridSearchCV, validation_curve\n",
    "from sklearn.metrics import mean_squared_error, r2_score\n",
    "\n",
    "# preprocessors\n",
    "from sklearn.preprocessing import StandardScaler, OneHotEncoder\n",
    "from sklearn.impute import SimpleImputer\n",
    "from sklearn.compose import ColumnTransformer\n",
    "\n",
    "# pipeline\n",
    "from sklearn.pipeline import Pipeline\n",
    "\n",
    "# linear regression\n",
    "from sklearn.linear_model import LinearRegression\n",
    "\n",
    "# CART\n",
    "from sklearn.tree import DecisionTreeRegressor\n",
    "\n",
    "# random forest\n",
    "from sklearn.ensemble import RandomForestRegressor\n",
    "\n",
    "# xgboost\n",
    "import xgboost\n",
    "from xgboost import XGBRegressor"
   ]
  },
  {
   "cell_type": "code",
   "execution_count": 4,
   "id": "efedad46-a5ea-41ff-8875-ba06e5a131cc",
   "metadata": {},
   "outputs": [],
   "source": [
    "hh = pd.read_excel(\"data/tenure - households.xlsx\", sheet_name = 3)"
   ]
  },
  {
   "cell_type": "code",
   "execution_count": 8,
   "id": "ac2aa44f-d7e1-4731-9d54-352b87e04039",
   "metadata": {},
   "outputs": [
    {
     "data": {
      "text/html": [
       "<div>\n",
       "<style scoped>\n",
       "    .dataframe tbody tr th:only-of-type {\n",
       "        vertical-align: middle;\n",
       "    }\n",
       "\n",
       "    .dataframe tbody tr th {\n",
       "        vertical-align: top;\n",
       "    }\n",
       "\n",
       "    .dataframe thead th {\n",
       "        text-align: right;\n",
       "    }\n",
       "</style>\n",
       "<table border=\"1\" class=\"dataframe\">\n",
       "  <thead>\n",
       "    <tr style=\"text-align: right;\">\n",
       "      <th></th>\n",
       "      <th>LSOA code</th>\n",
       "      <th>local authority code</th>\n",
       "      <th>local authority name</th>\n",
       "      <th>All Households</th>\n",
       "      <th>Owned outright</th>\n",
       "      <th>Owned with a mortgage or loan</th>\n",
       "      <th>Shared ownership</th>\n",
       "      <th>Rented from Local Authority</th>\n",
       "      <th>Other social rented</th>\n",
       "      <th>Private landlord or letting agency</th>\n",
       "      <th>Other private rented</th>\n",
       "      <th>Rent free</th>\n",
       "    </tr>\n",
       "  </thead>\n",
       "  <tbody>\n",
       "    <tr>\n",
       "      <th>0</th>\n",
       "      <td>E01000001</td>\n",
       "      <td>E09000001</td>\n",
       "      <td>City of London</td>\n",
       "      <td>843</td>\n",
       "      <td>338</td>\n",
       "      <td>144</td>\n",
       "      <td>3</td>\n",
       "      <td>17</td>\n",
       "      <td>4</td>\n",
       "      <td>283</td>\n",
       "      <td>53</td>\n",
       "      <td>1</td>\n",
       "    </tr>\n",
       "    <tr>\n",
       "      <th>1</th>\n",
       "      <td>E01000002</td>\n",
       "      <td>E09000001</td>\n",
       "      <td>City of London</td>\n",
       "      <td>825</td>\n",
       "      <td>283</td>\n",
       "      <td>149</td>\n",
       "      <td>2</td>\n",
       "      <td>23</td>\n",
       "      <td>6</td>\n",
       "      <td>324</td>\n",
       "      <td>38</td>\n",
       "      <td>0</td>\n",
       "    </tr>\n",
       "    <tr>\n",
       "      <th>2</th>\n",
       "      <td>E01000003</td>\n",
       "      <td>E09000001</td>\n",
       "      <td>City of London</td>\n",
       "      <td>1015</td>\n",
       "      <td>232</td>\n",
       "      <td>145</td>\n",
       "      <td>0</td>\n",
       "      <td>249</td>\n",
       "      <td>52</td>\n",
       "      <td>293</td>\n",
       "      <td>42</td>\n",
       "      <td>2</td>\n",
       "    </tr>\n",
       "    <tr>\n",
       "      <th>3</th>\n",
       "      <td>E01000005</td>\n",
       "      <td>E09000001</td>\n",
       "      <td>City of London</td>\n",
       "      <td>482</td>\n",
       "      <td>19</td>\n",
       "      <td>22</td>\n",
       "      <td>1</td>\n",
       "      <td>148</td>\n",
       "      <td>186</td>\n",
       "      <td>91</td>\n",
       "      <td>15</td>\n",
       "      <td>0</td>\n",
       "    </tr>\n",
       "    <tr>\n",
       "      <th>4</th>\n",
       "      <td>E01032739</td>\n",
       "      <td>E09000001</td>\n",
       "      <td>City of London</td>\n",
       "      <td>882</td>\n",
       "      <td>118</td>\n",
       "      <td>98</td>\n",
       "      <td>3</td>\n",
       "      <td>3</td>\n",
       "      <td>8</td>\n",
       "      <td>555</td>\n",
       "      <td>97</td>\n",
       "      <td>0</td>\n",
       "    </tr>\n",
       "  </tbody>\n",
       "</table>\n",
       "</div>"
      ],
      "text/plain": [
       "   LSOA code local authority code local authority name  All Households  \\\n",
       "0  E01000001            E09000001       City of London             843   \n",
       "1  E01000002            E09000001       City of London             825   \n",
       "2  E01000003            E09000001       City of London            1015   \n",
       "3  E01000005            E09000001       City of London             482   \n",
       "4  E01032739            E09000001       City of London             882   \n",
       "\n",
       "   Owned outright  Owned with a mortgage or loan  Shared ownership   \\\n",
       "0             338                            144                  3   \n",
       "1             283                            149                  2   \n",
       "2             232                            145                  0   \n",
       "3              19                             22                  1   \n",
       "4             118                             98                  3   \n",
       "\n",
       "   Rented from Local Authority  Other social rented  \\\n",
       "0                           17                    4   \n",
       "1                           23                    6   \n",
       "2                          249                   52   \n",
       "3                          148                  186   \n",
       "4                            3                    8   \n",
       "\n",
       "   Private landlord or letting agency  Other private rented  Rent free  \n",
       "0                                 283                    53          1  \n",
       "1                                 324                    38          0  \n",
       "2                                 293                    42          2  \n",
       "3                                  91                    15          0  \n",
       "4                                 555                    97          0  "
      ]
     },
     "execution_count": 8,
     "metadata": {},
     "output_type": "execute_result"
    }
   ],
   "source": [
    "hh.head()"
   ]
  },
  {
   "cell_type": "code",
   "execution_count": 7,
   "id": "099025b9-5647-4365-8bac-1e74c145cfda",
   "metadata": {},
   "outputs": [
    {
     "data": {
      "text/html": [
       "<div>\n",
       "<style scoped>\n",
       "    .dataframe tbody tr th:only-of-type {\n",
       "        vertical-align: middle;\n",
       "    }\n",
       "\n",
       "    .dataframe tbody tr th {\n",
       "        vertical-align: top;\n",
       "    }\n",
       "\n",
       "    .dataframe thead th {\n",
       "        text-align: right;\n",
       "    }\n",
       "</style>\n",
       "<table border=\"1\" class=\"dataframe\">\n",
       "  <thead>\n",
       "    <tr style=\"text-align: right;\">\n",
       "      <th></th>\n",
       "      <th>Local authority code</th>\n",
       "      <th>Local authority name</th>\n",
       "      <th>LSOA code</th>\n",
       "      <th>LSOA name</th>\n",
       "      <th>Year ending Dec 1995</th>\n",
       "      <th>Year ending Mar 1996</th>\n",
       "      <th>Year ending Jun 1996</th>\n",
       "      <th>Year ending Sep 1996</th>\n",
       "      <th>Year ending Dec 1996</th>\n",
       "      <th>Year ending Mar 1997</th>\n",
       "      <th>...</th>\n",
       "      <th>Year ending Sep 2020</th>\n",
       "      <th>Year ending Dec 2020</th>\n",
       "      <th>Year ending Mar 2021</th>\n",
       "      <th>Year ending Jun 2021</th>\n",
       "      <th>Year ending Sep 2021</th>\n",
       "      <th>Year ending Dec 2021</th>\n",
       "      <th>Year ending Mar 2022</th>\n",
       "      <th>Year ending Jun 2022</th>\n",
       "      <th>Year ending Sep 2022</th>\n",
       "      <th>Unnamed: 112</th>\n",
       "    </tr>\n",
       "  </thead>\n",
       "  <tbody>\n",
       "    <tr>\n",
       "      <th>0</th>\n",
       "      <td>E06000001</td>\n",
       "      <td>Hartlepool</td>\n",
       "      <td>E01011949</td>\n",
       "      <td>Hartlepool 009A</td>\n",
       "      <td>34750</td>\n",
       "      <td>34500</td>\n",
       "      <td>30500</td>\n",
       "      <td>30000</td>\n",
       "      <td>29950</td>\n",
       "      <td>29000</td>\n",
       "      <td>...</td>\n",
       "      <td>88000</td>\n",
       "      <td>88000</td>\n",
       "      <td>81500</td>\n",
       "      <td>80500</td>\n",
       "      <td>85500</td>\n",
       "      <td>100750</td>\n",
       "      <td>94000</td>\n",
       "      <td>119000</td>\n",
       "      <td>100000</td>\n",
       "      <td>NaN</td>\n",
       "    </tr>\n",
       "    <tr>\n",
       "      <th>1</th>\n",
       "      <td>E06000001</td>\n",
       "      <td>Hartlepool</td>\n",
       "      <td>E01011950</td>\n",
       "      <td>Hartlepool 008A</td>\n",
       "      <td>25000</td>\n",
       "      <td>25000</td>\n",
       "      <td>25300</td>\n",
       "      <td>25625</td>\n",
       "      <td>25000</td>\n",
       "      <td>24800</td>\n",
       "      <td>...</td>\n",
       "      <td>28500</td>\n",
       "      <td>30000</td>\n",
       "      <td>33000</td>\n",
       "      <td>47000</td>\n",
       "      <td>50079</td>\n",
       "      <td>50159</td>\n",
       "      <td>50159</td>\n",
       "      <td>47879</td>\n",
       "      <td>46439.5</td>\n",
       "      <td>NaN</td>\n",
       "    </tr>\n",
       "    <tr>\n",
       "      <th>2</th>\n",
       "      <td>E06000001</td>\n",
       "      <td>Hartlepool</td>\n",
       "      <td>E01011951</td>\n",
       "      <td>Hartlepool 007A</td>\n",
       "      <td>27000</td>\n",
       "      <td>27000</td>\n",
       "      <td>27250</td>\n",
       "      <td>28950</td>\n",
       "      <td>28500</td>\n",
       "      <td>28950</td>\n",
       "      <td>...</td>\n",
       "      <td>30000</td>\n",
       "      <td>50000</td>\n",
       "      <td>51500</td>\n",
       "      <td>53000</td>\n",
       "      <td>58573.5</td>\n",
       "      <td>60000</td>\n",
       "      <td>61499.5</td>\n",
       "      <td>61499.5</td>\n",
       "      <td>60000</td>\n",
       "      <td>NaN</td>\n",
       "    </tr>\n",
       "    <tr>\n",
       "      <th>3</th>\n",
       "      <td>E06000001</td>\n",
       "      <td>Hartlepool</td>\n",
       "      <td>E01011952</td>\n",
       "      <td>Hartlepool 002A</td>\n",
       "      <td>44500</td>\n",
       "      <td>44500</td>\n",
       "      <td>30000</td>\n",
       "      <td>26675</td>\n",
       "      <td>26000</td>\n",
       "      <td>25500</td>\n",
       "      <td>...</td>\n",
       "      <td>85000</td>\n",
       "      <td>85000</td>\n",
       "      <td>:</td>\n",
       "      <td>83500</td>\n",
       "      <td>83000</td>\n",
       "      <td>80000</td>\n",
       "      <td>76000</td>\n",
       "      <td>75000</td>\n",
       "      <td>75000</td>\n",
       "      <td>NaN</td>\n",
       "    </tr>\n",
       "    <tr>\n",
       "      <th>4</th>\n",
       "      <td>E06000001</td>\n",
       "      <td>Hartlepool</td>\n",
       "      <td>E01011953</td>\n",
       "      <td>Hartlepool 002B</td>\n",
       "      <td>22000</td>\n",
       "      <td>27000</td>\n",
       "      <td>27000</td>\n",
       "      <td>20600</td>\n",
       "      <td>20000</td>\n",
       "      <td>19500</td>\n",
       "      <td>...</td>\n",
       "      <td>:</td>\n",
       "      <td>:</td>\n",
       "      <td>:</td>\n",
       "      <td>:</td>\n",
       "      <td>:</td>\n",
       "      <td>90000</td>\n",
       "      <td>:</td>\n",
       "      <td>95000</td>\n",
       "      <td>92500</td>\n",
       "      <td>NaN</td>\n",
       "    </tr>\n",
       "  </tbody>\n",
       "</table>\n",
       "<p>5 rows × 113 columns</p>\n",
       "</div>"
      ],
      "text/plain": [
       "  Local authority code Local authority name  LSOA code        LSOA name  \\\n",
       "0            E06000001           Hartlepool  E01011949  Hartlepool 009A   \n",
       "1            E06000001           Hartlepool  E01011950  Hartlepool 008A   \n",
       "2            E06000001           Hartlepool  E01011951  Hartlepool 007A   \n",
       "3            E06000001           Hartlepool  E01011952  Hartlepool 002A   \n",
       "4            E06000001           Hartlepool  E01011953  Hartlepool 002B   \n",
       "\n",
       "  Year ending Dec 1995 Year ending Mar 1996 Year ending Jun 1996  \\\n",
       "0                34750                34500                30500   \n",
       "1                25000                25000                25300   \n",
       "2                27000                27000                27250   \n",
       "3                44500                44500                30000   \n",
       "4                22000                27000                27000   \n",
       "\n",
       "  Year ending Sep 1996 Year ending Dec 1996 Year ending Mar 1997  ...  \\\n",
       "0                30000                29950                29000  ...   \n",
       "1                25625                25000                24800  ...   \n",
       "2                28950                28500                28950  ...   \n",
       "3                26675                26000                25500  ...   \n",
       "4                20600                20000                19500  ...   \n",
       "\n",
       "  Year ending Sep 2020 Year ending Dec 2020 Year ending Mar 2021  \\\n",
       "0                88000                88000                81500   \n",
       "1                28500                30000                33000   \n",
       "2                30000                50000                51500   \n",
       "3                85000                85000                    :   \n",
       "4                    :                    :                    :   \n",
       "\n",
       "  Year ending Jun 2021 Year ending Sep 2021 Year ending Dec 2021  \\\n",
       "0                80500                85500               100750   \n",
       "1                47000                50079                50159   \n",
       "2                53000              58573.5                60000   \n",
       "3                83500                83000                80000   \n",
       "4                    :                    :                90000   \n",
       "\n",
       "  Year ending Mar 2022 Year ending Jun 2022 Year ending Sep 2022 Unnamed: 112  \n",
       "0                94000               119000               100000          NaN  \n",
       "1                50159                47879              46439.5          NaN  \n",
       "2              61499.5              61499.5                60000          NaN  \n",
       "3                76000                75000                75000          NaN  \n",
       "4                    :                95000                92500          NaN  \n",
       "\n",
       "[5 rows x 113 columns]"
      ]
     },
     "execution_count": 7,
     "metadata": {},
     "output_type": "execute_result"
    }
   ],
   "source": [
    "prop = pd.read_excel(\"data/HPSSA Dataset 46 - Median price paid for residential properties by LSOA.xls\", sheet_name = \"Data\", header = 5)\n",
    "prop.head()"
   ]
  },
  {
   "cell_type": "code",
   "execution_count": 16,
   "id": "db04e381-e461-4e4f-a355-203961da01b9",
   "metadata": {},
   "outputs": [
    {
     "data": {
      "text/plain": [
       "LSOA code               object\n",
       "Year ending Sep 2022    object\n",
       "dtype: object"
      ]
     },
     "execution_count": 16,
     "metadata": {},
     "output_type": "execute_result"
    }
   ],
   "source": [
    "prop[['LSOA code','Year ending Sep 2022']].dtypes"
   ]
  },
  {
   "cell_type": "code",
   "execution_count": 63,
   "id": "9a4905cd-9dbc-4a78-a64b-ef4bbb4e81e6",
   "metadata": {},
   "outputs": [
    {
     "data": {
      "text/html": [
       "<pre style=\"white-space:pre;overflow-x:auto;line-height:normal;font-family:Menlo,'DejaVu Sans Mono',consolas,'Courier New',monospace\"><span style=\"color: #008080; text-decoration-color: #008080; font-weight: bold\">13</span> column names have been cleaned\n",
       "</pre>\n"
      ],
      "text/plain": [
       "\u001b[1;36m13\u001b[0m column names have been cleaned\n"
      ]
     },
     "metadata": {},
     "output_type": "display_data"
    },
    {
     "data": {
      "text/html": [
       "<div>\n",
       "<style scoped>\n",
       "    .dataframe tbody tr th:only-of-type {\n",
       "        vertical-align: middle;\n",
       "    }\n",
       "\n",
       "    .dataframe tbody tr th {\n",
       "        vertical-align: top;\n",
       "    }\n",
       "\n",
       "    .dataframe thead th {\n",
       "        text-align: right;\n",
       "    }\n",
       "</style>\n",
       "<table border=\"1\" class=\"dataframe\">\n",
       "  <thead>\n",
       "    <tr style=\"text-align: right;\">\n",
       "      <th></th>\n",
       "      <th>lsoa_code</th>\n",
       "      <th>local_authority_code</th>\n",
       "      <th>local_authority_name</th>\n",
       "      <th>all_households</th>\n",
       "      <th>owned_outright</th>\n",
       "      <th>owned_with_a_mortgage_or_loan</th>\n",
       "      <th>shared_ownership</th>\n",
       "      <th>rented_from_local_authority</th>\n",
       "      <th>other_social_rented</th>\n",
       "      <th>private_landlord_or_letting_agency</th>\n",
       "      <th>other_private_rented</th>\n",
       "      <th>rent_free</th>\n",
       "      <th>year_ending_sep_2022</th>\n",
       "    </tr>\n",
       "  </thead>\n",
       "  <tbody>\n",
       "    <tr>\n",
       "      <th>0</th>\n",
       "      <td>E01000001</td>\n",
       "      <td>E09000001</td>\n",
       "      <td>City of London</td>\n",
       "      <td>843</td>\n",
       "      <td>338</td>\n",
       "      <td>144</td>\n",
       "      <td>3</td>\n",
       "      <td>17</td>\n",
       "      <td>4</td>\n",
       "      <td>283</td>\n",
       "      <td>53</td>\n",
       "      <td>1</td>\n",
       "      <td>827500</td>\n",
       "    </tr>\n",
       "    <tr>\n",
       "      <th>1</th>\n",
       "      <td>E01000002</td>\n",
       "      <td>E09000001</td>\n",
       "      <td>City of London</td>\n",
       "      <td>825</td>\n",
       "      <td>283</td>\n",
       "      <td>149</td>\n",
       "      <td>2</td>\n",
       "      <td>23</td>\n",
       "      <td>6</td>\n",
       "      <td>324</td>\n",
       "      <td>38</td>\n",
       "      <td>0</td>\n",
       "      <td>815000</td>\n",
       "    </tr>\n",
       "    <tr>\n",
       "      <th>2</th>\n",
       "      <td>E01000003</td>\n",
       "      <td>E09000001</td>\n",
       "      <td>City of London</td>\n",
       "      <td>1015</td>\n",
       "      <td>232</td>\n",
       "      <td>145</td>\n",
       "      <td>0</td>\n",
       "      <td>249</td>\n",
       "      <td>52</td>\n",
       "      <td>293</td>\n",
       "      <td>42</td>\n",
       "      <td>2</td>\n",
       "      <td>540000</td>\n",
       "    </tr>\n",
       "    <tr>\n",
       "      <th>3</th>\n",
       "      <td>E01000005</td>\n",
       "      <td>E09000001</td>\n",
       "      <td>City of London</td>\n",
       "      <td>482</td>\n",
       "      <td>19</td>\n",
       "      <td>22</td>\n",
       "      <td>1</td>\n",
       "      <td>148</td>\n",
       "      <td>186</td>\n",
       "      <td>91</td>\n",
       "      <td>15</td>\n",
       "      <td>0</td>\n",
       "      <td>:</td>\n",
       "    </tr>\n",
       "    <tr>\n",
       "      <th>4</th>\n",
       "      <td>E01032739</td>\n",
       "      <td>E09000001</td>\n",
       "      <td>City of London</td>\n",
       "      <td>882</td>\n",
       "      <td>118</td>\n",
       "      <td>98</td>\n",
       "      <td>3</td>\n",
       "      <td>3</td>\n",
       "      <td>8</td>\n",
       "      <td>555</td>\n",
       "      <td>97</td>\n",
       "      <td>0</td>\n",
       "      <td>645000</td>\n",
       "    </tr>\n",
       "  </tbody>\n",
       "</table>\n",
       "</div>"
      ],
      "text/plain": [
       "   lsoa_code local_authority_code local_authority_name  all_households  \\\n",
       "0  E01000001            E09000001       City of London             843   \n",
       "1  E01000002            E09000001       City of London             825   \n",
       "2  E01000003            E09000001       City of London            1015   \n",
       "3  E01000005            E09000001       City of London             482   \n",
       "4  E01032739            E09000001       City of London             882   \n",
       "\n",
       "   owned_outright  owned_with_a_mortgage_or_loan  shared_ownership  \\\n",
       "0             338                            144                 3   \n",
       "1             283                            149                 2   \n",
       "2             232                            145                 0   \n",
       "3              19                             22                 1   \n",
       "4             118                             98                 3   \n",
       "\n",
       "   rented_from_local_authority  other_social_rented  \\\n",
       "0                           17                    4   \n",
       "1                           23                    6   \n",
       "2                          249                   52   \n",
       "3                          148                  186   \n",
       "4                            3                    8   \n",
       "\n",
       "   private_landlord_or_letting_agency  other_private_rented  rent_free  \\\n",
       "0                                 283                    53          1   \n",
       "1                                 324                    38          0   \n",
       "2                                 293                    42          2   \n",
       "3                                  91                    15          0   \n",
       "4                                 555                    97          0   \n",
       "\n",
       "  year_ending_sep_2022  \n",
       "0               827500  \n",
       "1               815000  \n",
       "2               540000  \n",
       "3                    :  \n",
       "4               645000  "
      ]
     },
     "execution_count": 63,
     "metadata": {},
     "output_type": "execute_result"
    }
   ],
   "source": [
    "hh_prop = pd.merge(hh, prop[['LSOA code','Year ending Sep 2022']], left_on = \"LSOA code\", right_on =\"LSOA code\", how = \"left\")\n",
    "hh_prop = clean_columns(hh_prop)\n",
    "hh_prop.head()"
   ]
  },
  {
   "cell_type": "code",
   "execution_count": 64,
   "id": "285f8a4e-4351-431c-8bc7-ad6aa7174d5c",
   "metadata": {},
   "outputs": [
    {
     "name": "stdout",
     "output_type": "stream",
     "text": [
      "<class 'pandas.core.frame.DataFrame'>\n",
      "Int64Index: 4994 entries, 0 to 4993\n",
      "Data columns (total 13 columns):\n",
      " #   Column                              Non-Null Count  Dtype \n",
      "---  ------                              --------------  ----- \n",
      " 0   lsoa_code                           4994 non-null   object\n",
      " 1   local_authority_code                4994 non-null   object\n",
      " 2   local_authority_name                4994 non-null   object\n",
      " 3   all_households                      4994 non-null   int64 \n",
      " 4   owned_outright                      4994 non-null   int64 \n",
      " 5   owned_with_a_mortgage_or_loan       4994 non-null   int64 \n",
      " 6   shared_ownership                    4994 non-null   int64 \n",
      " 7   rented_from_local_authority         4994 non-null   int64 \n",
      " 8   other_social_rented                 4994 non-null   int64 \n",
      " 9   private_landlord_or_letting_agency  4994 non-null   int64 \n",
      " 10  other_private_rented                4994 non-null   int64 \n",
      " 11  rent_free                           4994 non-null   int64 \n",
      " 12  year_ending_sep_2022                4659 non-null   object\n",
      "dtypes: int64(9), object(4)\n",
      "memory usage: 546.2+ KB\n"
     ]
    }
   ],
   "source": [
    "hh_prop.info()"
   ]
  },
  {
   "cell_type": "code",
   "execution_count": 65,
   "id": "09b191c1-26f9-4952-8a75-e2af6d7fa363",
   "metadata": {},
   "outputs": [
    {
     "name": "stdout",
     "output_type": "stream",
     "text": [
      "<class 'pandas.core.frame.DataFrame'>\n",
      "Int64Index: 4248 entries, 0 to 4985\n",
      "Data columns (total 13 columns):\n",
      " #   Column                              Non-Null Count  Dtype  \n",
      "---  ------                              --------------  -----  \n",
      " 0   lsoa_code                           4248 non-null   object \n",
      " 1   local_authority_code                4248 non-null   object \n",
      " 2   local_authority_name                4248 non-null   object \n",
      " 3   all_households                      4248 non-null   int64  \n",
      " 4   owned_outright                      4248 non-null   int64  \n",
      " 5   owned_with_a_mortgage_or_loan       4248 non-null   int64  \n",
      " 6   shared_ownership                    4248 non-null   int64  \n",
      " 7   rented_from_local_authority         4248 non-null   int64  \n",
      " 8   other_social_rented                 4248 non-null   int64  \n",
      " 9   private_landlord_or_letting_agency  4248 non-null   int64  \n",
      " 10  other_private_rented                4248 non-null   int64  \n",
      " 11  rent_free                           4248 non-null   int64  \n",
      " 12  year_ending_sep_2022                4248 non-null   float64\n",
      "dtypes: float64(1), int64(9), object(3)\n",
      "memory usage: 464.6+ KB\n"
     ]
    }
   ],
   "source": [
    "hh_prop['year_ending_sep_2022'] = pd.to_numeric(hh_prop['year_ending_sep_2022'],errors = 'coerce')\n",
    "hh_prop.dropna(inplace=True)\n",
    "hh_prop.info()"
   ]
  },
  {
   "cell_type": "code",
   "execution_count": 66,
   "id": "29b1ac50-63a5-47d5-ab70-1873d2b89589",
   "metadata": {},
   "outputs": [
    {
     "data": {
      "text/plain": [
       "Index(['lsoa_code', 'local_authority_code', 'local_authority_name',\n",
       "       'all_households', 'owned_outright', 'owned_with_a_mortgage_or_loan',\n",
       "       'shared_ownership', 'rented_from_local_authority',\n",
       "       'other_social_rented', 'private_landlord_or_letting_agency',\n",
       "       'other_private_rented', 'rent_free', 'year_ending_sep_2022'],\n",
       "      dtype='object')"
      ]
     },
     "execution_count": 66,
     "metadata": {},
     "output_type": "execute_result"
    }
   ],
   "source": [
    "hh_prop.columns"
   ]
  },
  {
   "cell_type": "code",
   "execution_count": 67,
   "id": "3e8b396d-cb25-4009-9ea5-83d763836760",
   "metadata": {},
   "outputs": [],
   "source": [
    "hh_prop = hh_prop.drop(['lsoa_code', 'local_authority_code'], axis = 1)"
   ]
  },
  {
   "cell_type": "code",
   "execution_count": 68,
   "id": "4b9f24f8-0159-4233-ae47-824de084c2d8",
   "metadata": {},
   "outputs": [],
   "source": [
    "random_state_split = 100\n",
    "train_x, test_x, train_y, test_y = train_test_split(hh_prop.drop(['year_ending_sep_2022'], axis = 1), hh_prop.year_ending_sep_2022, random_state=random_state_split)"
   ]
  },
  {
   "cell_type": "code",
   "execution_count": 70,
   "id": "fb9cf597-e6e7-418f-b130-058cba1f75e1",
   "metadata": {},
   "outputs": [
    {
     "data": {
      "text/plain": [
       "Index(['local_authority_name', 'all_households', 'owned_outright',\n",
       "       'owned_with_a_mortgage_or_loan', 'shared_ownership',\n",
       "       'rented_from_local_authority', 'other_social_rented',\n",
       "       'private_landlord_or_letting_agency', 'other_private_rented',\n",
       "       'rent_free', 'year_ending_sep_2022'],\n",
       "      dtype='object')"
      ]
     },
     "execution_count": 70,
     "metadata": {},
     "output_type": "execute_result"
    }
   ],
   "source": [
    "hh_prop.columns"
   ]
  },
  {
   "cell_type": "code",
   "execution_count": 69,
   "id": "5a27ef96-72c7-4a27-87bb-62fea1d9a9e7",
   "metadata": {},
   "outputs": [],
   "source": [
    "# The missing values of a numeric feature will be replaced by the 'mean' value of the feature.\n",
    "# The missing values of a categorical feature will be replaced by the a 'constant' value. If 'constant' value is not specified, it is default at '0' for numerical data or 'np.nan' for categorical data.\n",
    "\n",
    "numeric_transformer = Pipeline(steps=[\n",
    "       ('imputer', SimpleImputer(strategy='mean'))\n",
    "      ,('scaler', StandardScaler())\n",
    "])\n",
    "categorical_transformer = Pipeline(steps=[\n",
    "       ('imputer', SimpleImputer(strategy='constant'))\n",
    "      ,('encoder', OneHotEncoder(drop='first'))\n",
    "])"
   ]
  },
  {
   "cell_type": "code",
   "execution_count": 71,
   "id": "6be1bac1-0525-44b2-9ca5-b8f24cdb0a09",
   "metadata": {},
   "outputs": [],
   "source": [
    "numeric_features = ['all_households', 'owned_outright',\n",
    "       'owned_with_a_mortgage_or_loan', 'shared_ownership',\n",
    "       'rented_from_local_authority', 'other_social_rented',\n",
    "       'private_landlord_or_letting_agency', 'other_private_rented',\n",
    "       'rent_free']\n",
    "categorical_features = ['local_authority_name']\n",
    "preprocessor = ColumnTransformer(\n",
    "   transformers=[\n",
    "    ('numeric', numeric_transformer, numeric_features)\n",
    "   ,('categorical', categorical_transformer, categorical_features)\n",
    "])"
   ]
  },
  {
   "cell_type": "code",
   "execution_count": 72,
   "id": "2765ed8f-a4c9-4684-86d2-4357f01285a0",
   "metadata": {},
   "outputs": [],
   "source": [
    "pipeline = Pipeline(steps = [\n",
    "   ('preprocessor', preprocessor),\n",
    "   ('regressor',DecisionTreeRegressor())\n",
    "])"
   ]
  },
  {
   "cell_type": "code",
   "execution_count": 73,
   "id": "eb88a063-9e5c-400b-af50-31f7058b0b0a",
   "metadata": {},
   "outputs": [
    {
     "name": "stdout",
     "output_type": "stream",
     "text": [
      "Pipeline(steps=[('preprocessor',\n",
      "                 ColumnTransformer(transformers=[('numeric',\n",
      "                                                  Pipeline(steps=[('imputer',\n",
      "                                                                   SimpleImputer()),\n",
      "                                                                  ('scaler',\n",
      "                                                                   StandardScaler())]),\n",
      "                                                  ['all_households',\n",
      "                                                   'owned_outright',\n",
      "                                                   'owned_with_a_mortgage_or_loan',\n",
      "                                                   'shared_ownership',\n",
      "                                                   'rented_from_local_authority',\n",
      "                                                   'other_social_rented',\n",
      "                                                   'private_landlord_or_letting_agency',\n",
      "                                                   'other_private_rented',\n",
      "                                                   'rent_free']),\n",
      "                                                 ('categorical',\n",
      "                                                  Pipeline(steps=[('imputer',\n",
      "                                                                   SimpleImputer(strategy='constant')),\n",
      "                                                                  ('encoder',\n",
      "                                                                   OneHotEncoder(drop='first'))]),\n",
      "                                                  ['local_authority_name'])])),\n",
      "                ('regressor', DecisionTreeRegressor())])\n"
     ]
    }
   ],
   "source": [
    "cart_model = pipeline.fit(train_x, train_y)\n",
    "# this will visualise the pipeline\n",
    "print(cart_model)"
   ]
  },
  {
   "cell_type": "code",
   "execution_count": 74,
   "id": "1c390c1e-b01c-4d4e-b6f8-11e0bdfd9629",
   "metadata": {},
   "outputs": [
    {
     "name": "stdout",
     "output_type": "stream",
     "text": [
      "RMSE on the training data:\n",
      "0.0\n",
      "RMSE on the testing data:\n",
      "375204.5288037771\n"
     ]
    }
   ],
   "source": [
    "print(\"RMSE on the training data:\")\n",
    "print(mean_squared_error(train_y, cart_model.predict(train_x), squared=False))\n",
    "print(\"RMSE on the testing data:\")\n",
    "print(mean_squared_error(test_y, cart_model.predict(test_x), squared=False))"
   ]
  },
  {
   "cell_type": "code",
   "execution_count": 75,
   "id": "6941d7cf-2725-475f-8a38-31b9c23709d7",
   "metadata": {},
   "outputs": [
    {
     "name": "stdout",
     "output_type": "stream",
     "text": [
      "R2 on the training data:\n",
      "1.0\n",
      "R2 on the testing data:\n",
      "0.21370862745903274\n"
     ]
    }
   ],
   "source": [
    "print(\"R2 on the training data:\")\n",
    "print(r2_score(train_y, cart_model.predict(train_x)))\n",
    "print(\"R2 on the testing data:\")\n",
    "print(r2_score(test_y, cart_model.predict(test_x)))"
   ]
  },
  {
   "cell_type": "code",
   "execution_count": 76,
   "id": "d2de24e6-5d65-4340-bf9f-4f948d1ffa0a",
   "metadata": {},
   "outputs": [
    {
     "name": "stdout",
     "output_type": "stream",
     "text": [
      "Best R2 Score:  0.1981665656064094\n",
      "Best Params:  {'regressor__max_depth': 10, 'regressor__min_samples_split': 10}\n"
     ]
    }
   ],
   "source": [
    "# we fix the random_state in DecisionTreeRegressor() so that the result of GridSearchCV is the same in different runs\n",
    "cart_pipeline = Pipeline(steps = [\n",
    "  ('preprocessor', preprocessor),\n",
    "  ('regressor', DecisionTreeRegressor(random_state=123))\n",
    "])\n",
    "\n",
    "cart_pipeline.fit(train_x, train_y)\n",
    "# in order to change the model, needs to be changed in cart_pipeline and grid_params\n",
    "# grid_params is the range of each hyperparameter\n",
    "grid_params = {\n",
    "  'regressor__max_depth': [10,20,30,40,50], \n",
    "  'regressor__min_samples_split': [2,4,6,8,10]\n",
    "}\n",
    "search = GridSearchCV(cart_pipeline, grid_params)\n",
    "search.fit(train_x, train_y)\n",
    "print(\"Best R2 Score: \", search.best_score_)\n",
    "print(\"Best Params: \", search.best_params_)"
   ]
  },
  {
   "cell_type": "code",
   "execution_count": 77,
   "id": "350ea030-8a8f-43c4-9479-0d2db2d364a2",
   "metadata": {},
   "outputs": [
    {
     "data": {
      "text/html": [
       "<div>\n",
       "<style scoped>\n",
       "    .dataframe tbody tr th:only-of-type {\n",
       "        vertical-align: middle;\n",
       "    }\n",
       "\n",
       "    .dataframe tbody tr th {\n",
       "        vertical-align: top;\n",
       "    }\n",
       "\n",
       "    .dataframe thead th {\n",
       "        text-align: right;\n",
       "    }\n",
       "</style>\n",
       "<table border=\"1\" class=\"dataframe\">\n",
       "  <thead>\n",
       "    <tr style=\"text-align: right;\">\n",
       "      <th></th>\n",
       "      <th>R2_train_data</th>\n",
       "      <th>R2_test_data</th>\n",
       "      <th>R2_diff</th>\n",
       "    </tr>\n",
       "  </thead>\n",
       "  <tbody>\n",
       "    <tr>\n",
       "      <th>Linear</th>\n",
       "      <td>0.430968</td>\n",
       "      <td>0.480808</td>\n",
       "      <td>-0.049841</td>\n",
       "    </tr>\n",
       "    <tr>\n",
       "      <th>CART</th>\n",
       "      <td>1.000000</td>\n",
       "      <td>0.283514</td>\n",
       "      <td>0.716486</td>\n",
       "    </tr>\n",
       "    <tr>\n",
       "      <th>RF</th>\n",
       "      <td>0.923672</td>\n",
       "      <td>0.584722</td>\n",
       "      <td>0.338950</td>\n",
       "    </tr>\n",
       "    <tr>\n",
       "      <th>XGB</th>\n",
       "      <td>0.972459</td>\n",
       "      <td>0.549990</td>\n",
       "      <td>0.422469</td>\n",
       "    </tr>\n",
       "  </tbody>\n",
       "</table>\n",
       "</div>"
      ],
      "text/plain": [
       "        R2_train_data  R2_test_data   R2_diff\n",
       "Linear       0.430968      0.480808 -0.049841\n",
       "CART         1.000000      0.283514  0.716486\n",
       "RF           0.923672      0.584722  0.338950\n",
       "XGB          0.972459      0.549990  0.422469"
      ]
     },
     "execution_count": 77,
     "metadata": {},
     "output_type": "execute_result"
    }
   ],
   "source": [
    "regressors = {\n",
    "    'Linear': LinearRegression(),\n",
    "    'CART': DecisionTreeRegressor(),\n",
    "    'RF': RandomForestRegressor(),\n",
    "    'XGB': XGBRegressor()\n",
    "}\n",
    "\n",
    "# a dict to store the R2 of training and testing data\n",
    "dict_results = dict()\n",
    "\n",
    "for name, regressor in regressors.items():\n",
    "    pipeline = Pipeline(steps = [\n",
    "               ('preprocessor', preprocessor)\n",
    "              ,('regressor', regressor)\n",
    "           ])\n",
    "    model = pipeline.fit(train_x, train_y)\n",
    "    predictions = model.predict(test_x)\n",
    "    dict_results[name] = [model.score(train_x, train_y), model.score(test_x, test_y), model.score(train_x, train_y) - model.score(test_x, test_y)]\n",
    "\n",
    "# transform dict_models to dataframe\n",
    "df_models = pd.DataFrame.from_dict(dict_results, orient='index', columns=['R2_train_data', 'R2_test_data', 'R2_diff'])\n",
    "df_models"
   ]
  },
  {
   "cell_type": "markdown",
   "id": "f8dead93-6984-40c3-94a2-2271621289ec",
   "metadata": {},
   "source": [
    "Methodology "
   ]
  },
  {
   "cell_type": "markdown",
   "id": "aa3f15c6-ac46-4ea1-9500-95bac68546f8",
   "metadata": {},
   "source": [
    "Results "
   ]
  },
  {
   "cell_type": "markdown",
   "id": "88b1a2c2-e7c3-43cd-bf50-8c4c53851f02",
   "metadata": {},
   "source": [
    "Discussion "
   ]
  },
  {
   "cell_type": "markdown",
   "id": "00cb5242-09fa-4d2f-b91b-2311a756d5a6",
   "metadata": {},
   "source": [
    "Conclusion "
   ]
  }
 ],
 "metadata": {
  "kernelspec": {
   "display_name": "Python 3 (ipykernel)",
   "language": "python",
   "name": "python3"
  },
  "language_info": {
   "codemirror_mode": {
    "name": "ipython",
    "version": 3
   },
   "file_extension": ".py",
   "mimetype": "text/x-python",
   "name": "python",
   "nbconvert_exporter": "python",
   "pygments_lexer": "ipython3",
   "version": "3.10.5"
  }
 },
 "nbformat": 4,
 "nbformat_minor": 5
}
