{
 "cells": [
  {
   "cell_type": "markdown",
   "id": "72851fb0-45ba-440b-ac41-2aaa768e541b",
   "metadata": {},
   "source": [
    "# DSSS: Assessing London Housing Prices"
   ]
  },
  {
   "cell_type": "markdown",
   "id": "c414bbf0-d266-4494-b68f-ea3738b22f4d",
   "metadata": {},
   "source": [
    "I aim to answer the following research questions:\n",
    "\n",
    "What are the main factors that influence property values in London according to a random forest model based on London census data?\n",
    "How do property values vary across London opportunity areas and adjacent areas using a regression discontinuity design?\n",
    "My main data source will be the 2021 census, which provides comprehensive data on London’s population characteristics such as age, sex, ethnicity, religion, education, occupation, income, housing tenure, and so on.\n",
    "\n",
    "My outcome variable will be median property value per LSOA, from HMRC price paid data. The random forest technique will be applied to build a model for property value based on the independent variables. The regression discontinuity design will be applied to compare property values between opportunity areas (treatment group) and adjacent areas (control group) using distance from opportunity area boundary as the assignment variable. The assumption is that properties close to the boundary are similar in other aspects except for their location within or outside an opportunity area. The causal effect of being in an opportunity area on property value will be estimated by fitting local linear regressions on both sides of the boundary.\n",
    "\n"
   ]
  },
  {
   "cell_type": "markdown",
   "id": "b432eb31-d0a3-4a91-90f8-62498972b4d3",
   "metadata": {},
   "source": [
    "Introduction "
   ]
  },
  {
   "cell_type": "markdown",
   "id": "45ad9bf3-ab7a-4c7a-961f-06efba00f828",
   "metadata": {},
   "source": [
    "Literature review "
   ]
  },
  {
   "cell_type": "markdown",
   "id": "95be728e-a639-4704-95a7-d14d77529744",
   "metadata": {},
   "source": [
    "Research question "
   ]
  },
  {
   "cell_type": "markdown",
   "id": "d3ccf9aa-e718-4f94-98c2-a59bf231d2f1",
   "metadata": {},
   "source": [
    "Presentation of data "
   ]
  },
  {
   "cell_type": "markdown",
   "id": "ae14c1ca-09b2-4e96-b595-e9fda5e5d61a",
   "metadata": {},
   "source": [
    "## Data Importing"
   ]
  },
  {
   "cell_type": "code",
   "execution_count": null,
   "id": "a1ef10de-af91-4277-8afd-2b5eacf40682",
   "metadata": {},
   "outputs": [],
   "source": [
    "pip install UKCensusAPI"
   ]
  },
  {
   "cell_type": "code",
   "execution_count": null,
   "id": "83b9968d-dc42-4f37-94dc-e27cf5e1ed65",
   "metadata": {},
   "outputs": [],
   "source": [
    "pip install skimpy"
   ]
  },
  {
   "cell_type": "code",
   "execution_count": 17,
   "id": "31aa384a-0f04-4cb8-9161-e6984337390f",
   "metadata": {},
   "outputs": [
    {
     "name": "stdout",
     "output_type": "stream",
     "text": [
      "Collecting unzip-http\n",
      "  Downloading unzip_http-0.4-py3-none-any.whl (6.4 kB)\n",
      "Requirement already satisfied: urllib3 in /opt/conda/lib/python3.10/site-packages (from unzip-http) (1.26.10)\n",
      "Installing collected packages: unzip-http\n",
      "Successfully installed unzip-http-0.4\n",
      "Note: you may need to restart the kernel to use updated packages.\n"
     ]
    }
   ],
   "source": [
    "pip install unzip-http"
   ]
  },
  {
   "cell_type": "code",
   "execution_count": 2,
   "id": "9a586935-392f-442f-9e26-1b0ff8d800bd",
   "metadata": {},
   "outputs": [],
   "source": [
    "#import ukcensusapi.Nomisweb as census_api\n",
    "import numpy as np\n",
    "import pandas as pd\n",
    "import os\n",
    "import matplotlib.pyplot as plt\n",
    "import geopandas as gpd\n",
    "import seaborn as sn\n",
    "\n",
    "#from skimpy import clean_columns\n",
    "\n",
    "import sklearn\n",
    "from sklearn.model_selection import train_test_split, GridSearchCV, validation_curve\n",
    "from sklearn.metrics import mean_squared_error, r2_score\n",
    "\n",
    "# preprocessors\n",
    "from sklearn.preprocessing import StandardScaler, OneHotEncoder\n",
    "from sklearn.impute import SimpleImputer\n",
    "from sklearn.compose import ColumnTransformer\n",
    "\n",
    "# pipeline\n",
    "from sklearn.pipeline import Pipeline\n",
    "\n",
    "# linear regression\n",
    "from sklearn.linear_model import LinearRegression\n",
    "\n",
    "# CART\n",
    "from sklearn.tree import DecisionTreeRegressor\n",
    "\n",
    "# random forest\n",
    "from sklearn.ensemble import RandomForestRegressor\n",
    "\n",
    "# xgboost\n",
    "import xgboost\n",
    "from xgboost import XGBRegressor"
   ]
  },
  {
   "cell_type": "markdown",
   "id": "0b5550e0-fe8e-49b5-b371-65cf373bffe3",
   "metadata": {},
   "source": [
    "Price paid to UPRN: http://ubdc.gla.ac.uk/dataset/price-paid-data-to-uprn-lookup/resource/119df18f-2eaf-4259-8a5a-13eafdab1377\n",
    "\n",
    "OS Open UPRN: https://osdatahub.os.uk/downloads/open/OpenUPRN\n",
    "\n",
    "House price square metre: https://data.london.gov.uk/dataset/house-price-per-square-metre-in-england-and-wales?resource=5313e02a-6f0c-4bca-8294-5be87a631160"
   ]
  },
  {
   "cell_type": "code",
   "execution_count": null,
   "id": "2e14fa29-8ee5-4f1b-a256-a4e9a0aa7466",
   "metadata": {},
   "outputs": [],
   "source": [
    "help(urllib)"
   ]
  },
  {
   "cell_type": "code",
   "execution_count": 3,
   "id": "85023bb6-6aca-4c24-9512-2c890c7f2177",
   "metadata": {},
   "outputs": [],
   "source": [
    "import geopandas as gpd"
   ]
  },
  {
   "cell_type": "code",
   "execution_count": 4,
   "id": "add4a579-2adf-40d7-8a26-b63fe0a32fd1",
   "metadata": {},
   "outputs": [
    {
     "data": {
      "text/html": [
       "<div>\n",
       "<style scoped>\n",
       "    .dataframe tbody tr th:only-of-type {\n",
       "        vertical-align: middle;\n",
       "    }\n",
       "\n",
       "    .dataframe tbody tr th {\n",
       "        vertical-align: top;\n",
       "    }\n",
       "\n",
       "    .dataframe thead th {\n",
       "        text-align: right;\n",
       "    }\n",
       "</style>\n",
       "<table border=\"1\" class=\"dataframe\">\n",
       "  <thead>\n",
       "    <tr style=\"text-align: right;\">\n",
       "      <th></th>\n",
       "      <th>UPRN</th>\n",
       "      <th>X_COORDINATE</th>\n",
       "      <th>Y_COORDINATE</th>\n",
       "      <th>LATITUDE</th>\n",
       "      <th>LONGITUDE</th>\n",
       "      <th>geometry</th>\n",
       "    </tr>\n",
       "  </thead>\n",
       "  <tbody>\n",
       "    <tr>\n",
       "      <th>0</th>\n",
       "      <td>1</td>\n",
       "      <td>358260.66</td>\n",
       "      <td>172796.5</td>\n",
       "      <td>51.452601</td>\n",
       "      <td>-2.602075</td>\n",
       "      <td>POINT (358260.660 172796.500)</td>\n",
       "    </tr>\n",
       "    <tr>\n",
       "      <th>1</th>\n",
       "      <td>26</td>\n",
       "      <td>352967.00</td>\n",
       "      <td>181077.0</td>\n",
       "      <td>51.526633</td>\n",
       "      <td>-2.679361</td>\n",
       "      <td>POINT (352967.000 181077.000)</td>\n",
       "    </tr>\n",
       "    <tr>\n",
       "      <th>2</th>\n",
       "      <td>27</td>\n",
       "      <td>352967.00</td>\n",
       "      <td>181077.0</td>\n",
       "      <td>51.526633</td>\n",
       "      <td>-2.679361</td>\n",
       "      <td>POINT (352967.000 181077.000)</td>\n",
       "    </tr>\n",
       "    <tr>\n",
       "      <th>3</th>\n",
       "      <td>30</td>\n",
       "      <td>354800.00</td>\n",
       "      <td>180469.0</td>\n",
       "      <td>51.521317</td>\n",
       "      <td>-2.652862</td>\n",
       "      <td>POINT (354800.000 180469.000)</td>\n",
       "    </tr>\n",
       "    <tr>\n",
       "      <th>4</th>\n",
       "      <td>31</td>\n",
       "      <td>354796.00</td>\n",
       "      <td>180460.0</td>\n",
       "      <td>51.521236</td>\n",
       "      <td>-2.652918</td>\n",
       "      <td>POINT (354796.000 180460.000)</td>\n",
       "    </tr>\n",
       "  </tbody>\n",
       "</table>\n",
       "</div>"
      ],
      "text/plain": [
       "   UPRN  X_COORDINATE  Y_COORDINATE   LATITUDE  LONGITUDE  \\\n",
       "0     1     358260.66      172796.5  51.452601  -2.602075   \n",
       "1    26     352967.00      181077.0  51.526633  -2.679361   \n",
       "2    27     352967.00      181077.0  51.526633  -2.679361   \n",
       "3    30     354800.00      180469.0  51.521317  -2.652862   \n",
       "4    31     354796.00      180460.0  51.521236  -2.652918   \n",
       "\n",
       "                        geometry  \n",
       "0  POINT (358260.660 172796.500)  \n",
       "1  POINT (352967.000 181077.000)  \n",
       "2  POINT (352967.000 181077.000)  \n",
       "3  POINT (354800.000 180469.000)  \n",
       "4  POINT (354796.000 180460.000)  "
      ]
     },
     "execution_count": 4,
     "metadata": {},
     "output_type": "execute_result"
    }
   ],
   "source": [
    "openuprn = gpd.read_file(\"data/osopenuprn_202302.gpkg\", rows = 5)\n",
    "openuprn.head()"
   ]
  },
  {
   "cell_type": "code",
   "execution_count": 5,
   "id": "0755ce34-3048-465d-9f58-90972b490b68",
   "metadata": {},
   "outputs": [
    {
     "data": {
      "text/plain": [
       "<AxesSubplot:>"
      ]
     },
     "execution_count": 5,
     "metadata": {},
     "output_type": "execute_result"
    },
    {
     "data": {
      "image/png": "[encoded data removed]",
      "text/plain": [
       "<Figure size 432x288 with 1 Axes>"
      ]
     },
     "metadata": {
      "needs_background": "light"
     },
     "output_type": "display_data"
    }
   ],
   "source": [
    "openuprn.plot()"
   ]
  },
  {
   "cell_type": "code",
   "execution_count": 6,
   "id": "938ac8fe-ada5-4a3f-96f4-36454a661718",
   "metadata": {},
   "outputs": [
    {
     "data": {
      "text/html": [
       "<div>\n",
       "<style scoped>\n",
       "    .dataframe tbody tr th:only-of-type {\n",
       "        vertical-align: middle;\n",
       "    }\n",
       "\n",
       "    .dataframe tbody tr th {\n",
       "        vertical-align: top;\n",
       "    }\n",
       "\n",
       "    .dataframe thead th {\n",
       "        text-align: right;\n",
       "    }\n",
       "</style>\n",
       "<table border=\"1\" class=\"dataframe\">\n",
       "  <thead>\n",
       "    <tr style=\"text-align: right;\">\n",
       "      <th></th>\n",
       "      <th>UPRN</th>\n",
       "      <th>X_COORDINATE</th>\n",
       "      <th>Y_COORDINATE</th>\n",
       "      <th>LATITUDE</th>\n",
       "      <th>LONGITUDE</th>\n",
       "    </tr>\n",
       "  </thead>\n",
       "  <tbody>\n",
       "    <tr>\n",
       "      <th>0</th>\n",
       "      <td>1</td>\n",
       "      <td>358260.66</td>\n",
       "      <td>172796.5</td>\n",
       "      <td>51.452601</td>\n",
       "      <td>-2.602075</td>\n",
       "    </tr>\n",
       "    <tr>\n",
       "      <th>1</th>\n",
       "      <td>26</td>\n",
       "      <td>352967.00</td>\n",
       "      <td>181077.0</td>\n",
       "      <td>51.526633</td>\n",
       "      <td>-2.679361</td>\n",
       "    </tr>\n",
       "    <tr>\n",
       "      <th>2</th>\n",
       "      <td>27</td>\n",
       "      <td>352967.00</td>\n",
       "      <td>181077.0</td>\n",
       "      <td>51.526633</td>\n",
       "      <td>-2.679361</td>\n",
       "    </tr>\n",
       "    <tr>\n",
       "      <th>3</th>\n",
       "      <td>30</td>\n",
       "      <td>354800.00</td>\n",
       "      <td>180469.0</td>\n",
       "      <td>51.521317</td>\n",
       "      <td>-2.652862</td>\n",
       "    </tr>\n",
       "    <tr>\n",
       "      <th>4</th>\n",
       "      <td>31</td>\n",
       "      <td>354796.00</td>\n",
       "      <td>180460.0</td>\n",
       "      <td>51.521236</td>\n",
       "      <td>-2.652918</td>\n",
       "    </tr>\n",
       "  </tbody>\n",
       "</table>\n",
       "</div>"
      ],
      "text/plain": [
       "   UPRN  X_COORDINATE  Y_COORDINATE   LATITUDE  LONGITUDE\n",
       "0     1     358260.66      172796.5  51.452601  -2.602075\n",
       "1    26     352967.00      181077.0  51.526633  -2.679361\n",
       "2    27     352967.00      181077.0  51.526633  -2.679361\n",
       "3    30     354800.00      180469.0  51.521317  -2.652862\n",
       "4    31     354796.00      180460.0  51.521236  -2.652918"
      ]
     },
     "execution_count": 6,
     "metadata": {},
     "output_type": "execute_result"
    }
   ],
   "source": [
    "openuprncsv = pd.read_csv(\"data/osopenuprn_202302.csv\")\n",
    "openuprncsv.head()"
   ]
  },
  {
   "cell_type": "code",
   "execution_count": 7,
   "id": "216b19f0-1a2f-4592-80b1-e1f51bbdae9b",
   "metadata": {},
   "outputs": [
    {
     "data": {
      "text/html": [
       "<div>\n",
       "<style scoped>\n",
       "    .dataframe tbody tr th:only-of-type {\n",
       "        vertical-align: middle;\n",
       "    }\n",
       "\n",
       "    .dataframe tbody tr th {\n",
       "        vertical-align: top;\n",
       "    }\n",
       "\n",
       "    .dataframe thead th {\n",
       "        text-align: right;\n",
       "    }\n",
       "</style>\n",
       "<table border=\"1\" class=\"dataframe\">\n",
       "  <thead>\n",
       "    <tr style=\"text-align: right;\">\n",
       "      <th></th>\n",
       "      <th>UPRN</th>\n",
       "      <th>X_COORDINATE</th>\n",
       "      <th>Y_COORDINATE</th>\n",
       "      <th>LATITUDE</th>\n",
       "      <th>LONGITUDE</th>\n",
       "      <th>geometry</th>\n",
       "    </tr>\n",
       "  </thead>\n",
       "  <tbody>\n",
       "    <tr>\n",
       "      <th>0</th>\n",
       "      <td>1</td>\n",
       "      <td>358260.66</td>\n",
       "      <td>172796.5</td>\n",
       "      <td>51.452601</td>\n",
       "      <td>-2.602075</td>\n",
       "      <td>POINT (358260.660 172796.500)</td>\n",
       "    </tr>\n",
       "    <tr>\n",
       "      <th>1</th>\n",
       "      <td>26</td>\n",
       "      <td>352967.00</td>\n",
       "      <td>181077.0</td>\n",
       "      <td>51.526633</td>\n",
       "      <td>-2.679361</td>\n",
       "      <td>POINT (352967.000 181077.000)</td>\n",
       "    </tr>\n",
       "    <tr>\n",
       "      <th>2</th>\n",
       "      <td>27</td>\n",
       "      <td>352967.00</td>\n",
       "      <td>181077.0</td>\n",
       "      <td>51.526633</td>\n",
       "      <td>-2.679361</td>\n",
       "      <td>POINT (352967.000 181077.000)</td>\n",
       "    </tr>\n",
       "    <tr>\n",
       "      <th>3</th>\n",
       "      <td>30</td>\n",
       "      <td>354800.00</td>\n",
       "      <td>180469.0</td>\n",
       "      <td>51.521317</td>\n",
       "      <td>-2.652862</td>\n",
       "      <td>POINT (354800.000 180469.000)</td>\n",
       "    </tr>\n",
       "    <tr>\n",
       "      <th>4</th>\n",
       "      <td>31</td>\n",
       "      <td>354796.00</td>\n",
       "      <td>180460.0</td>\n",
       "      <td>51.521236</td>\n",
       "      <td>-2.652918</td>\n",
       "      <td>POINT (354796.000 180460.000)</td>\n",
       "    </tr>\n",
       "  </tbody>\n",
       "</table>\n",
       "</div>"
      ],
      "text/plain": [
       "   UPRN  X_COORDINATE  Y_COORDINATE   LATITUDE  LONGITUDE  \\\n",
       "0     1     358260.66      172796.5  51.452601  -2.602075   \n",
       "1    26     352967.00      181077.0  51.526633  -2.679361   \n",
       "2    27     352967.00      181077.0  51.526633  -2.679361   \n",
       "3    30     354800.00      180469.0  51.521317  -2.652862   \n",
       "4    31     354796.00      180460.0  51.521236  -2.652918   \n",
       "\n",
       "                        geometry  \n",
       "0  POINT (358260.660 172796.500)  \n",
       "1  POINT (352967.000 181077.000)  \n",
       "2  POINT (352967.000 181077.000)  \n",
       "3  POINT (354800.000 180469.000)  \n",
       "4  POINT (354796.000 180460.000)  "
      ]
     },
     "execution_count": 7,
     "metadata": {},
     "output_type": "execute_result"
    }
   ],
   "source": [
    "openuprn2 = gpd.GeoDataFrame(openuprncsv, geometry = gpd.points_from_xy(openuprncsv['X_COORDINATE'], openuprncsv['Y_COORDINATE']), crs = 'EPSG:27700')\n",
    "openuprn2.head()"
   ]
  },
  {
   "cell_type": "code",
   "execution_count": 10,
   "id": "71f3389d-02ca-4ad3-a7d7-47f69531a4eb",
   "metadata": {},
   "outputs": [
    {
     "data": {
      "text/html": [
       "<div>\n",
       "<style scoped>\n",
       "    .dataframe tbody tr th:only-of-type {\n",
       "        vertical-align: middle;\n",
       "    }\n",
       "\n",
       "    .dataframe tbody tr th {\n",
       "        vertical-align: top;\n",
       "    }\n",
       "\n",
       "    .dataframe thead th {\n",
       "        text-align: right;\n",
       "    }\n",
       "</style>\n",
       "<table border=\"1\" class=\"dataframe\">\n",
       "  <thead>\n",
       "    <tr style=\"text-align: right;\">\n",
       "      <th></th>\n",
       "      <th>transactionid</th>\n",
       "      <th>uprn</th>\n",
       "      <th>usrn</th>\n",
       "    </tr>\n",
       "  </thead>\n",
       "  <tbody>\n",
       "    <tr>\n",
       "      <th>0</th>\n",
       "      <td>{DD204FA6-B333-4A06-9E31-7ACABE162EB7}</td>\n",
       "      <td>30</td>\n",
       "      <td>4549897</td>\n",
       "    </tr>\n",
       "    <tr>\n",
       "      <th>1</th>\n",
       "      <td>{B26F0F8D-4C7A-4DBF-B10A-3336830BF462}</td>\n",
       "      <td>31</td>\n",
       "      <td>4549897</td>\n",
       "    </tr>\n",
       "    <tr>\n",
       "      <th>2</th>\n",
       "      <td>{241A4A53-DD8C-706B-E050-A8C06205638B}</td>\n",
       "      <td>63</td>\n",
       "      <td>4582546</td>\n",
       "    </tr>\n",
       "    <tr>\n",
       "      <th>3</th>\n",
       "      <td>{85866A64-627D-143F-E053-6B04A8C06A15}</td>\n",
       "      <td>97</td>\n",
       "      <td>4527985</td>\n",
       "    </tr>\n",
       "    <tr>\n",
       "      <th>4</th>\n",
       "      <td>{BE61D947-ED06-482E-8274-8B84912C15CB}</td>\n",
       "      <td>103</td>\n",
       "      <td>4527985</td>\n",
       "    </tr>\n",
       "  </tbody>\n",
       "</table>\n",
       "</div>"
      ],
      "text/plain": [
       "                            transactionid  uprn     usrn\n",
       "0  {DD204FA6-B333-4A06-9E31-7ACABE162EB7}    30  4549897\n",
       "1  {B26F0F8D-4C7A-4DBF-B10A-3336830BF462}    31  4549897\n",
       "2  {241A4A53-DD8C-706B-E050-A8C06205638B}    63  4582546\n",
       "3  {85866A64-627D-143F-E053-6B04A8C06A15}    97  4527985\n",
       "4  {BE61D947-ED06-482E-8274-8B84912C15CB}   103  4527985"
      ]
     },
     "execution_count": 10,
     "metadata": {},
     "output_type": "execute_result"
    }
   ],
   "source": [
    "uprn = pd.read_csv(\"data/ppdiduprnusrnubdc.csv\")\n",
    "uprn.head()"
   ]
  },
  {
   "cell_type": "code",
   "execution_count": 30,
   "id": "b6d648d5-7421-488c-ab83-fcfc86a5b9a4",
   "metadata": {},
   "outputs": [
    {
     "data": {
      "text/plain": [
       "<AxesSubplot:>"
      ]
     },
     "execution_count": 30,
     "metadata": {},
     "output_type": "execute_result"
    },
    {
     "data": {
      "image/png": "[encoded data removed]",
      "text/plain": [
       "<Figure size 432x288 with 1 Axes>"
      ]
     },
     "metadata": {
      "needs_background": "light"
     },
     "output_type": "display_data"
    }
   ],
   "source": [
    "camden = gpd.read_file(\"data/Land_Registry_Cadastral_Parcels.gml\")\n",
    "camden.plot()"
   ]
  },
  {
   "cell_type": "code",
   "execution_count": 8,
   "id": "b0a49ed4-c90d-467b-ab88-4f122a38a86e",
   "metadata": {},
   "outputs": [
    {
     "data": {
      "text/html": [
       "<div>\n",
       "<style scoped>\n",
       "    .dataframe tbody tr th:only-of-type {\n",
       "        vertical-align: middle;\n",
       "    }\n",
       "\n",
       "    .dataframe tbody tr th {\n",
       "        vertical-align: top;\n",
       "    }\n",
       "\n",
       "    .dataframe thead th {\n",
       "        text-align: right;\n",
       "    }\n",
       "</style>\n",
       "<table border=\"1\" class=\"dataframe\">\n",
       "  <thead>\n",
       "    <tr style=\"text-align: right;\">\n",
       "      <th></th>\n",
       "      <th>priceper</th>\n",
       "      <th>year</th>\n",
       "      <th>dateoftransfer</th>\n",
       "      <th>propertytype</th>\n",
       "      <th>duration</th>\n",
       "      <th>price</th>\n",
       "      <th>postcode</th>\n",
       "      <th>lad21cd</th>\n",
       "      <th>transactionid</th>\n",
       "      <th>id</th>\n",
       "      <th>tfarea</th>\n",
       "      <th>numberrooms</th>\n",
       "      <th>classt</th>\n",
       "      <th>CURRENT_ENERGY_EFFICIENCY</th>\n",
       "      <th>POTENTIAL_ENERGY_EFFICIENCY</th>\n",
       "      <th>CONSTRUCTION_AGE_BAND</th>\n",
       "    </tr>\n",
       "  </thead>\n",
       "  <tbody>\n",
       "    <tr>\n",
       "      <th>0</th>\n",
       "      <td>4453.125000</td>\n",
       "      <td>1999</td>\n",
       "      <td>1999-03-08</td>\n",
       "      <td>F</td>\n",
       "      <td>L</td>\n",
       "      <td>285000</td>\n",
       "      <td>EC1M 3HA</td>\n",
       "      <td>E09000007</td>\n",
       "      <td>{874382CA-FB65-4783-A7E9-4808A66E2193}</td>\n",
       "      <td>19077801</td>\n",
       "      <td>64.0</td>\n",
       "      <td>4.0</td>\n",
       "      <td>11</td>\n",
       "      <td>80</td>\n",
       "      <td>80</td>\n",
       "      <td>England and Wales: 1983-1990</td>\n",
       "    </tr>\n",
       "    <tr>\n",
       "      <th>1</th>\n",
       "      <td>8817.204301</td>\n",
       "      <td>2017</td>\n",
       "      <td>2017-04-12</td>\n",
       "      <td>F</td>\n",
       "      <td>L</td>\n",
       "      <td>820000</td>\n",
       "      <td>EC1M 3HA</td>\n",
       "      <td>E09000007</td>\n",
       "      <td>{4E95D757-A6E1-EDA1-E050-A8C0630539E2}</td>\n",
       "      <td>19076728</td>\n",
       "      <td>93.0</td>\n",
       "      <td>3.0</td>\n",
       "      <td>12</td>\n",
       "      <td>71</td>\n",
       "      <td>73</td>\n",
       "      <td>England and Wales: 1996-2002</td>\n",
       "    </tr>\n",
       "    <tr>\n",
       "      <th>2</th>\n",
       "      <td>5000.000000</td>\n",
       "      <td>2006</td>\n",
       "      <td>2006-07-10</td>\n",
       "      <td>F</td>\n",
       "      <td>L</td>\n",
       "      <td>440000</td>\n",
       "      <td>EC1M 3HA</td>\n",
       "      <td>E09000007</td>\n",
       "      <td>{1836572E-C388-422B-BA88-97C90D3AF44F}</td>\n",
       "      <td>19000267</td>\n",
       "      <td>88.0</td>\n",
       "      <td>3.0</td>\n",
       "      <td>11</td>\n",
       "      <td>79</td>\n",
       "      <td>81</td>\n",
       "      <td>England and Wales: 1996-2002</td>\n",
       "    </tr>\n",
       "    <tr>\n",
       "      <th>3</th>\n",
       "      <td>4901.960784</td>\n",
       "      <td>2002</td>\n",
       "      <td>2002-05-01</td>\n",
       "      <td>F</td>\n",
       "      <td>L</td>\n",
       "      <td>550000</td>\n",
       "      <td>EC1M 3HA</td>\n",
       "      <td>E09000007</td>\n",
       "      <td>{6D65FA9D-1AD1-4E1C-9A5D-209A486481F8}</td>\n",
       "      <td>19057980</td>\n",
       "      <td>112.2</td>\n",
       "      <td>4.0</td>\n",
       "      <td>12</td>\n",
       "      <td>47</td>\n",
       "      <td>52</td>\n",
       "      <td>England and Wales: 1991-1995</td>\n",
       "    </tr>\n",
       "    <tr>\n",
       "      <th>4</th>\n",
       "      <td>11144.578313</td>\n",
       "      <td>2018</td>\n",
       "      <td>2018-09-11</td>\n",
       "      <td>F</td>\n",
       "      <td>L</td>\n",
       "      <td>555000</td>\n",
       "      <td>EC1M 3HA</td>\n",
       "      <td>E09000007</td>\n",
       "      <td>{773788C2-EF2A-2CE4-E053-6C04A8C05E57}</td>\n",
       "      <td>19061398</td>\n",
       "      <td>49.8</td>\n",
       "      <td>2.0</td>\n",
       "      <td>11</td>\n",
       "      <td>76</td>\n",
       "      <td>77</td>\n",
       "      <td>England and Wales: 1996-2002</td>\n",
       "    </tr>\n",
       "  </tbody>\n",
       "</table>\n",
       "</div>"
      ],
      "text/plain": [
       "       priceper  year dateoftransfer propertytype duration   price  postcode  \\\n",
       "0   4453.125000  1999     1999-03-08            F        L  285000  EC1M 3HA   \n",
       "1   8817.204301  2017     2017-04-12            F        L  820000  EC1M 3HA   \n",
       "2   5000.000000  2006     2006-07-10            F        L  440000  EC1M 3HA   \n",
       "3   4901.960784  2002     2002-05-01            F        L  550000  EC1M 3HA   \n",
       "4  11144.578313  2018     2018-09-11            F        L  555000  EC1M 3HA   \n",
       "\n",
       "     lad21cd                           transactionid        id  tfarea  \\\n",
       "0  E09000007  {874382CA-FB65-4783-A7E9-4808A66E2193}  19077801    64.0   \n",
       "1  E09000007  {4E95D757-A6E1-EDA1-E050-A8C0630539E2}  19076728    93.0   \n",
       "2  E09000007  {1836572E-C388-422B-BA88-97C90D3AF44F}  19000267    88.0   \n",
       "3  E09000007  {6D65FA9D-1AD1-4E1C-9A5D-209A486481F8}  19057980   112.2   \n",
       "4  E09000007  {773788C2-EF2A-2CE4-E053-6C04A8C05E57}  19061398    49.8   \n",
       "\n",
       "   numberrooms  classt  CURRENT_ENERGY_EFFICIENCY  \\\n",
       "0          4.0      11                         80   \n",
       "1          3.0      12                         71   \n",
       "2          3.0      11                         79   \n",
       "3          4.0      12                         47   \n",
       "4          2.0      11                         76   \n",
       "\n",
       "   POTENTIAL_ENERGY_EFFICIENCY         CONSTRUCTION_AGE_BAND  \n",
       "0                           80  England and Wales: 1983-1990  \n",
       "1                           73  England and Wales: 1996-2002  \n",
       "2                           81  England and Wales: 1996-2002  \n",
       "3                           52  England and Wales: 1991-1995  \n",
       "4                           77  England and Wales: 1996-2002  "
      ]
     },
     "execution_count": 8,
     "metadata": {},
     "output_type": "execute_result"
    }
   ],
   "source": [
    "camden_price = pd.read_csv(\"data/hpm_la_2022/Camden_link_13082022.csv\")\n",
    "camden_price.head()"
   ]
  },
  {
   "cell_type": "code",
   "execution_count": 10,
   "id": "8f947877-fc87-4e5c-8a5a-21d4e554dd52",
   "metadata": {},
   "outputs": [
    {
     "data": {
      "text/html": [
       "<div>\n",
       "<style scoped>\n",
       "    .dataframe tbody tr th:only-of-type {\n",
       "        vertical-align: middle;\n",
       "    }\n",
       "\n",
       "    .dataframe tbody tr th {\n",
       "        vertical-align: top;\n",
       "    }\n",
       "\n",
       "    .dataframe thead th {\n",
       "        text-align: right;\n",
       "    }\n",
       "</style>\n",
       "<table border=\"1\" class=\"dataframe\">\n",
       "  <thead>\n",
       "    <tr style=\"text-align: right;\">\n",
       "      <th></th>\n",
       "      <th>gml_id</th>\n",
       "      <th>INSPIREID</th>\n",
       "      <th>LABEL</th>\n",
       "      <th>NATIONALCADASTRALREFERENCE</th>\n",
       "      <th>VALIDFROM</th>\n",
       "      <th>BEGINLIFESPANVERSION</th>\n",
       "      <th>geometry</th>\n",
       "    </tr>\n",
       "  </thead>\n",
       "  <tbody>\n",
       "    <tr>\n",
       "      <th>0</th>\n",
       "      <td>PREDEFINED.fid--4959b20f_186afaa37f5_-6426</td>\n",
       "      <td>51646130</td>\n",
       "      <td>51646130</td>\n",
       "      <td>51646130</td>\n",
       "      <td>2011-04-26T11:56:51.734Z</td>\n",
       "      <td>2011-04-26T11:56:51.734Z</td>\n",
       "      <td>POLYGON ((531201.400 182062.350, 531203.900 18...</td>\n",
       "    </tr>\n",
       "    <tr>\n",
       "      <th>1</th>\n",
       "      <td>PREDEFINED.fid--4959b20f_186afaa37f5_-6425</td>\n",
       "      <td>50836038</td>\n",
       "      <td>50836038</td>\n",
       "      <td>50836038</td>\n",
       "      <td>2011-03-07T11:18:07.207Z</td>\n",
       "      <td>2011-03-07T11:18:07.207Z</td>\n",
       "      <td>POLYGON ((531254.800 182050.750, 531257.050 18...</td>\n",
       "    </tr>\n",
       "    <tr>\n",
       "      <th>2</th>\n",
       "      <td>PREDEFINED.fid--4959b20f_186afaa37f5_-6424</td>\n",
       "      <td>50944105</td>\n",
       "      <td>50944105</td>\n",
       "      <td>50944105</td>\n",
       "      <td>2011-03-11T10:44:05.378Z</td>\n",
       "      <td>2011-03-11T10:44:05.378Z</td>\n",
       "      <td>POLYGON ((531153.450 182063.450, 531154.900 18...</td>\n",
       "    </tr>\n",
       "    <tr>\n",
       "      <th>3</th>\n",
       "      <td>PREDEFINED.fid--4959b20f_186afaa37f5_-6423</td>\n",
       "      <td>51015397</td>\n",
       "      <td>51015397</td>\n",
       "      <td>51015397</td>\n",
       "      <td>2011-03-16T11:49:01.465Z</td>\n",
       "      <td>2011-03-16T11:50:41.425Z</td>\n",
       "      <td>POLYGON ((531156.550 182092.250, 531159.000 18...</td>\n",
       "    </tr>\n",
       "    <tr>\n",
       "      <th>4</th>\n",
       "      <td>PREDEFINED.fid--4959b20f_186afaa37f5_-6422</td>\n",
       "      <td>51534458</td>\n",
       "      <td>51534458</td>\n",
       "      <td>51534458</td>\n",
       "      <td>2011-04-14T10:55:41.454Z</td>\n",
       "      <td>2011-04-14T10:55:41.454Z</td>\n",
       "      <td>POLYGON ((531200.050 182098.400, 531199.800 18...</td>\n",
       "    </tr>\n",
       "  </tbody>\n",
       "</table>\n",
       "</div>"
      ],
      "text/plain": [
       "                                       gml_id  INSPIREID     LABEL  \\\n",
       "0  PREDEFINED.fid--4959b20f_186afaa37f5_-6426   51646130  51646130   \n",
       "1  PREDEFINED.fid--4959b20f_186afaa37f5_-6425   50836038  50836038   \n",
       "2  PREDEFINED.fid--4959b20f_186afaa37f5_-6424   50944105  50944105   \n",
       "3  PREDEFINED.fid--4959b20f_186afaa37f5_-6423   51015397  51015397   \n",
       "4  PREDEFINED.fid--4959b20f_186afaa37f5_-6422   51534458  51534458   \n",
       "\n",
       "   NATIONALCADASTRALREFERENCE                 VALIDFROM  \\\n",
       "0                    51646130  2011-04-26T11:56:51.734Z   \n",
       "1                    50836038  2011-03-07T11:18:07.207Z   \n",
       "2                    50944105  2011-03-11T10:44:05.378Z   \n",
       "3                    51015397  2011-03-16T11:49:01.465Z   \n",
       "4                    51534458  2011-04-14T10:55:41.454Z   \n",
       "\n",
       "       BEGINLIFESPANVERSION                                           geometry  \n",
       "0  2011-04-26T11:56:51.734Z  POLYGON ((531201.400 182062.350, 531203.900 18...  \n",
       "1  2011-03-07T11:18:07.207Z  POLYGON ((531254.800 182050.750, 531257.050 18...  \n",
       "2  2011-03-11T10:44:05.378Z  POLYGON ((531153.450 182063.450, 531154.900 18...  \n",
       "3  2011-03-16T11:50:41.425Z  POLYGON ((531156.550 182092.250, 531159.000 18...  \n",
       "4  2011-04-14T10:55:41.454Z  POLYGON ((531200.050 182098.400, 531199.800 18...  "
      ]
     },
     "execution_count": 10,
     "metadata": {},
     "output_type": "execute_result"
    }
   ],
   "source": [
    "camden.head()"
   ]
  },
  {
   "cell_type": "code",
   "execution_count": 69,
   "id": "75880266-03de-4259-87e5-605b11ba5129",
   "metadata": {},
   "outputs": [
    {
     "data": {
      "text/plain": [
       "<AxesSubplot:xlabel='INSPIREID', ylabel='Count'>"
      ]
     },
     "execution_count": 69,
     "metadata": {},
     "output_type": "execute_result"
    },
    {
     "data": {
      "image/png": "[encoded data removed]",
      "text/plain": [
       "<Figure size 432x288 with 1 Axes>"
      ]
     },
     "metadata": {
      "needs_background": "light"
     },
     "output_type": "display_data"
    }
   ],
   "source": [
    "sn.histplot(camden, x = 'INSPIREID')"
   ]
  },
  {
   "cell_type": "code",
   "execution_count": 52,
   "id": "1f0dab04-0d47-40a8-a2c9-6abe5807dc1d",
   "metadata": {},
   "outputs": [
    {
     "data": {
      "text/plain": [
       "<AxesSubplot:xlabel='uprn', ylabel='Count'>"
      ]
     },
     "execution_count": 52,
     "metadata": {},
     "output_type": "execute_result"
    },
    {
     "data": {
      "image/png": "[encoded data removed]",
      "text/plain": [
       "<Figure size 432x288 with 1 Axes>"
      ]
     },
     "metadata": {
      "needs_background": "light"
     },
     "output_type": "display_data"
    }
   ],
   "source": [
    "sn.histplot(uprn, x = 'uprn')"
   ]
  },
  {
   "cell_type": "code",
   "execution_count": 66,
   "id": "0830c7b5-ec89-4ec7-8526-9ad64338ae74",
   "metadata": {},
   "outputs": [
    {
     "data": {
      "text/html": [
       "<div>\n",
       "<style scoped>\n",
       "    .dataframe tbody tr th:only-of-type {\n",
       "        vertical-align: middle;\n",
       "    }\n",
       "\n",
       "    .dataframe tbody tr th {\n",
       "        vertical-align: top;\n",
       "    }\n",
       "\n",
       "    .dataframe thead th {\n",
       "        text-align: right;\n",
       "    }\n",
       "</style>\n",
       "<table border=\"1\" class=\"dataframe\">\n",
       "  <thead>\n",
       "    <tr style=\"text-align: right;\">\n",
       "      <th></th>\n",
       "      <th>uprn</th>\n",
       "      <th>usrn</th>\n",
       "    </tr>\n",
       "  </thead>\n",
       "  <tbody>\n",
       "    <tr>\n",
       "      <th>count</th>\n",
       "      <td>1.048575e+06</td>\n",
       "      <td>1.048575e+06</td>\n",
       "    </tr>\n",
       "    <tr>\n",
       "      <th>mean</th>\n",
       "      <td>9.003072e+06</td>\n",
       "      <td>2.448723e+07</td>\n",
       "    </tr>\n",
       "    <tr>\n",
       "      <th>std</th>\n",
       "      <td>7.512982e+06</td>\n",
       "      <td>1.552013e+07</td>\n",
       "    </tr>\n",
       "    <tr>\n",
       "      <th>min</th>\n",
       "      <td>3.000000e+01</td>\n",
       "      <td>4.400195e+06</td>\n",
       "    </tr>\n",
       "    <tr>\n",
       "      <th>25%</th>\n",
       "      <td>5.603180e+05</td>\n",
       "      <td>4.596502e+06</td>\n",
       "    </tr>\n",
       "    <tr>\n",
       "      <th>50%</th>\n",
       "      <td>1.100993e+07</td>\n",
       "      <td>2.060219e+07</td>\n",
       "    </tr>\n",
       "    <tr>\n",
       "      <th>75%</th>\n",
       "      <td>1.501326e+07</td>\n",
       "      <td>4.470048e+07</td>\n",
       "    </tr>\n",
       "    <tr>\n",
       "      <th>max</th>\n",
       "      <td>2.206366e+07</td>\n",
       "      <td>4.809643e+07</td>\n",
       "    </tr>\n",
       "  </tbody>\n",
       "</table>\n",
       "</div>"
      ],
      "text/plain": [
       "               uprn          usrn\n",
       "count  1.048575e+06  1.048575e+06\n",
       "mean   9.003072e+06  2.448723e+07\n",
       "std    7.512982e+06  1.552013e+07\n",
       "min    3.000000e+01  4.400195e+06\n",
       "25%    5.603180e+05  4.596502e+06\n",
       "50%    1.100993e+07  2.060219e+07\n",
       "75%    1.501326e+07  4.470048e+07\n",
       "max    2.206366e+07  4.809643e+07"
      ]
     },
     "execution_count": 66,
     "metadata": {},
     "output_type": "execute_result"
    }
   ],
   "source": [
    "uprn.describe()"
   ]
  },
  {
   "cell_type": "code",
   "execution_count": 11,
   "id": "a4865529-1f7b-4b01-a7b8-e615bd1ccad5",
   "metadata": {},
   "outputs": [
    {
     "data": {
      "text/plain": [
       "0    5129471\n",
       "1    5112813\n",
       "2    5112827\n",
       "3    5112844\n",
       "4    5112812\n",
       "Name: uprn, dtype: int64"
      ]
     },
     "execution_count": 11,
     "metadata": {},
     "output_type": "execute_result"
    }
   ],
   "source": [
    "camden_merge = pd.merge(camden_price, uprn, how = 'left', left_on = \"transactionid\", right_on = \"transactionid\").dropna()\n",
    "camden_merge[['uprn','usrn']] = camden_merge[['uprn','usrn']].astype(int)\n",
    "\n",
    "camden_merge['uprn'].head()"
   ]
  },
  {
   "cell_type": "code",
   "execution_count": 63,
   "id": "6a005a06-b3f5-4a31-b966-d059e1b55445",
   "metadata": {},
   "outputs": [
    {
     "data": {
      "text/plain": [
       "<AxesSubplot:xlabel='uprn', ylabel='Count'>"
      ]
     },
     "execution_count": 63,
     "metadata": {},
     "output_type": "execute_result"
    },
    {
     "data": {
      "image/png": "[encoded data removed]",
      "text/plain": [
       "<Figure size 432x288 with 1 Axes>"
      ]
     },
     "metadata": {
      "needs_background": "light"
     },
     "output_type": "display_data"
    }
   ],
   "source": [
    "sn.histplot(camden_merge, x = 'uprn')"
   ]
  },
  {
   "cell_type": "code",
   "execution_count": null,
   "id": "50cbe619-4acc-4172-bf46-16d8b035a392",
   "metadata": {},
   "outputs": [],
   "source": [
    "camden_merge.plot()"
   ]
  },
  {
   "cell_type": "code",
   "execution_count": 12,
   "id": "ec54c419-82ec-44ef-8ef5-8970e517f2d8",
   "metadata": {},
   "outputs": [
    {
     "data": {
      "text/html": [
       "<div>\n",
       "<style scoped>\n",
       "    .dataframe tbody tr th:only-of-type {\n",
       "        vertical-align: middle;\n",
       "    }\n",
       "\n",
       "    .dataframe tbody tr th {\n",
       "        vertical-align: top;\n",
       "    }\n",
       "\n",
       "    .dataframe thead th {\n",
       "        text-align: right;\n",
       "    }\n",
       "</style>\n",
       "<table border=\"1\" class=\"dataframe\">\n",
       "  <thead>\n",
       "    <tr style=\"text-align: right;\">\n",
       "      <th></th>\n",
       "      <th>priceper</th>\n",
       "      <th>year</th>\n",
       "      <th>dateoftransfer</th>\n",
       "      <th>propertytype</th>\n",
       "      <th>duration</th>\n",
       "      <th>price</th>\n",
       "      <th>postcode</th>\n",
       "      <th>lad21cd</th>\n",
       "      <th>transactionid</th>\n",
       "      <th>id</th>\n",
       "      <th>...</th>\n",
       "      <th>POTENTIAL_ENERGY_EFFICIENCY</th>\n",
       "      <th>CONSTRUCTION_AGE_BAND</th>\n",
       "      <th>uprn</th>\n",
       "      <th>usrn</th>\n",
       "      <th>UPRN</th>\n",
       "      <th>X_COORDINATE</th>\n",
       "      <th>Y_COORDINATE</th>\n",
       "      <th>LATITUDE</th>\n",
       "      <th>LONGITUDE</th>\n",
       "      <th>geometry</th>\n",
       "    </tr>\n",
       "  </thead>\n",
       "  <tbody>\n",
       "    <tr>\n",
       "      <th>0</th>\n",
       "      <td>4453.125000</td>\n",
       "      <td>1999</td>\n",
       "      <td>1999-03-08</td>\n",
       "      <td>F</td>\n",
       "      <td>L</td>\n",
       "      <td>285000</td>\n",
       "      <td>EC1M 3HA</td>\n",
       "      <td>E09000007</td>\n",
       "      <td>{874382CA-FB65-4783-A7E9-4808A66E2193}</td>\n",
       "      <td>19077801</td>\n",
       "      <td>...</td>\n",
       "      <td>80</td>\n",
       "      <td>England and Wales: 1983-1990</td>\n",
       "      <td>5129471</td>\n",
       "      <td>20401051</td>\n",
       "      <td>5129471</td>\n",
       "      <td>531511.0</td>\n",
       "      <td>181768.0</td>\n",
       "      <td>51.519532</td>\n",
       "      <td>-0.105911</td>\n",
       "      <td>POINT (531511.000 181768.000)</td>\n",
       "    </tr>\n",
       "    <tr>\n",
       "      <th>1</th>\n",
       "      <td>8817.204301</td>\n",
       "      <td>2017</td>\n",
       "      <td>2017-04-12</td>\n",
       "      <td>F</td>\n",
       "      <td>L</td>\n",
       "      <td>820000</td>\n",
       "      <td>EC1M 3HA</td>\n",
       "      <td>E09000007</td>\n",
       "      <td>{4E95D757-A6E1-EDA1-E050-A8C0630539E2}</td>\n",
       "      <td>19076728</td>\n",
       "      <td>...</td>\n",
       "      <td>73</td>\n",
       "      <td>England and Wales: 1996-2002</td>\n",
       "      <td>5112813</td>\n",
       "      <td>20401051</td>\n",
       "      <td>5112813</td>\n",
       "      <td>531511.0</td>\n",
       "      <td>181768.0</td>\n",
       "      <td>51.519532</td>\n",
       "      <td>-0.105911</td>\n",
       "      <td>POINT (531511.000 181768.000)</td>\n",
       "    </tr>\n",
       "    <tr>\n",
       "      <th>2</th>\n",
       "      <td>5000.000000</td>\n",
       "      <td>2006</td>\n",
       "      <td>2006-07-10</td>\n",
       "      <td>F</td>\n",
       "      <td>L</td>\n",
       "      <td>440000</td>\n",
       "      <td>EC1M 3HA</td>\n",
       "      <td>E09000007</td>\n",
       "      <td>{1836572E-C388-422B-BA88-97C90D3AF44F}</td>\n",
       "      <td>19000267</td>\n",
       "      <td>...</td>\n",
       "      <td>81</td>\n",
       "      <td>England and Wales: 1996-2002</td>\n",
       "      <td>5112827</td>\n",
       "      <td>20401051</td>\n",
       "      <td>5112827</td>\n",
       "      <td>531511.0</td>\n",
       "      <td>181768.0</td>\n",
       "      <td>51.519532</td>\n",
       "      <td>-0.105911</td>\n",
       "      <td>POINT (531511.000 181768.000)</td>\n",
       "    </tr>\n",
       "    <tr>\n",
       "      <th>3</th>\n",
       "      <td>4901.960784</td>\n",
       "      <td>2002</td>\n",
       "      <td>2002-05-01</td>\n",
       "      <td>F</td>\n",
       "      <td>L</td>\n",
       "      <td>550000</td>\n",
       "      <td>EC1M 3HA</td>\n",
       "      <td>E09000007</td>\n",
       "      <td>{6D65FA9D-1AD1-4E1C-9A5D-209A486481F8}</td>\n",
       "      <td>19057980</td>\n",
       "      <td>...</td>\n",
       "      <td>52</td>\n",
       "      <td>England and Wales: 1991-1995</td>\n",
       "      <td>5112844</td>\n",
       "      <td>20401051</td>\n",
       "      <td>5112844</td>\n",
       "      <td>531511.0</td>\n",
       "      <td>181768.0</td>\n",
       "      <td>51.519532</td>\n",
       "      <td>-0.105911</td>\n",
       "      <td>POINT (531511.000 181768.000)</td>\n",
       "    </tr>\n",
       "    <tr>\n",
       "      <th>4</th>\n",
       "      <td>11144.578313</td>\n",
       "      <td>2018</td>\n",
       "      <td>2018-09-11</td>\n",
       "      <td>F</td>\n",
       "      <td>L</td>\n",
       "      <td>555000</td>\n",
       "      <td>EC1M 3HA</td>\n",
       "      <td>E09000007</td>\n",
       "      <td>{773788C2-EF2A-2CE4-E053-6C04A8C05E57}</td>\n",
       "      <td>19061398</td>\n",
       "      <td>...</td>\n",
       "      <td>77</td>\n",
       "      <td>England and Wales: 1996-2002</td>\n",
       "      <td>5112812</td>\n",
       "      <td>20401051</td>\n",
       "      <td>5112812</td>\n",
       "      <td>531511.0</td>\n",
       "      <td>181768.0</td>\n",
       "      <td>51.519532</td>\n",
       "      <td>-0.105911</td>\n",
       "      <td>POINT (531511.000 181768.000)</td>\n",
       "    </tr>\n",
       "  </tbody>\n",
       "</table>\n",
       "<p>5 rows × 24 columns</p>\n",
       "</div>"
      ],
      "text/plain": [
       "       priceper  year dateoftransfer propertytype duration   price  postcode  \\\n",
       "0   4453.125000  1999     1999-03-08            F        L  285000  EC1M 3HA   \n",
       "1   8817.204301  2017     2017-04-12            F        L  820000  EC1M 3HA   \n",
       "2   5000.000000  2006     2006-07-10            F        L  440000  EC1M 3HA   \n",
       "3   4901.960784  2002     2002-05-01            F        L  550000  EC1M 3HA   \n",
       "4  11144.578313  2018     2018-09-11            F        L  555000  EC1M 3HA   \n",
       "\n",
       "     lad21cd                           transactionid        id  ...  \\\n",
       "0  E09000007  {874382CA-FB65-4783-A7E9-4808A66E2193}  19077801  ...   \n",
       "1  E09000007  {4E95D757-A6E1-EDA1-E050-A8C0630539E2}  19076728  ...   \n",
       "2  E09000007  {1836572E-C388-422B-BA88-97C90D3AF44F}  19000267  ...   \n",
       "3  E09000007  {6D65FA9D-1AD1-4E1C-9A5D-209A486481F8}  19057980  ...   \n",
       "4  E09000007  {773788C2-EF2A-2CE4-E053-6C04A8C05E57}  19061398  ...   \n",
       "\n",
       "   POTENTIAL_ENERGY_EFFICIENCY         CONSTRUCTION_AGE_BAND     uprn  \\\n",
       "0                           80  England and Wales: 1983-1990  5129471   \n",
       "1                           73  England and Wales: 1996-2002  5112813   \n",
       "2                           81  England and Wales: 1996-2002  5112827   \n",
       "3                           52  England and Wales: 1991-1995  5112844   \n",
       "4                           77  England and Wales: 1996-2002  5112812   \n",
       "\n",
       "       usrn     UPRN X_COORDINATE  Y_COORDINATE   LATITUDE  LONGITUDE  \\\n",
       "0  20401051  5129471     531511.0      181768.0  51.519532  -0.105911   \n",
       "1  20401051  5112813     531511.0      181768.0  51.519532  -0.105911   \n",
       "2  20401051  5112827     531511.0      181768.0  51.519532  -0.105911   \n",
       "3  20401051  5112844     531511.0      181768.0  51.519532  -0.105911   \n",
       "4  20401051  5112812     531511.0      181768.0  51.519532  -0.105911   \n",
       "\n",
       "                        geometry  \n",
       "0  POINT (531511.000 181768.000)  \n",
       "1  POINT (531511.000 181768.000)  \n",
       "2  POINT (531511.000 181768.000)  \n",
       "3  POINT (531511.000 181768.000)  \n",
       "4  POINT (531511.000 181768.000)  \n",
       "\n",
       "[5 rows x 24 columns]"
      ]
     },
     "execution_count": 12,
     "metadata": {},
     "output_type": "execute_result"
    }
   ],
   "source": [
    "camden_merge = pd.merge(camden_merge, openuprn2, how = 'left', left_on = 'uprn', right_on = 'UPRN')\n",
    "camden_merge.head()"
   ]
  },
  {
   "cell_type": "code",
   "execution_count": 14,
   "id": "22f838b8-3f26-44d1-a994-f5bf54ed2329",
   "metadata": {},
   "outputs": [
    {
     "name": "stdout",
     "output_type": "stream",
     "text": [
      "<class 'pandas.core.frame.DataFrame'>\n",
      "Int64Index: 47680 entries, 0 to 47679\n",
      "Data columns (total 24 columns):\n",
      " #   Column                       Non-Null Count  Dtype   \n",
      "---  ------                       --------------  -----   \n",
      " 0   priceper                     47680 non-null  float64 \n",
      " 1   year                         47680 non-null  int64   \n",
      " 2   dateoftransfer               47680 non-null  object  \n",
      " 3   propertytype                 47680 non-null  object  \n",
      " 4   duration                     47680 non-null  object  \n",
      " 5   price                        47680 non-null  int64   \n",
      " 6   postcode                     47680 non-null  object  \n",
      " 7   lad21cd                      47680 non-null  object  \n",
      " 8   transactionid                47680 non-null  object  \n",
      " 9   id                           47680 non-null  int64   \n",
      " 10  tfarea                       47680 non-null  float64 \n",
      " 11  numberrooms                  47680 non-null  float64 \n",
      " 12  classt                       47680 non-null  int64   \n",
      " 13  CURRENT_ENERGY_EFFICIENCY    47680 non-null  int64   \n",
      " 14  POTENTIAL_ENERGY_EFFICIENCY  47680 non-null  int64   \n",
      " 15  CONSTRUCTION_AGE_BAND        47680 non-null  object  \n",
      " 16  uprn                         47680 non-null  int64   \n",
      " 17  usrn                         47680 non-null  int64   \n",
      " 18  UPRN                         47680 non-null  int64   \n",
      " 19  X_COORDINATE                 47680 non-null  float64 \n",
      " 20  Y_COORDINATE                 47680 non-null  float64 \n",
      " 21  LATITUDE                     47680 non-null  float64 \n",
      " 22  LONGITUDE                    47680 non-null  float64 \n",
      " 23  geometry                     47680 non-null  geometry\n",
      "dtypes: float64(7), geometry(1), int64(9), object(7)\n",
      "memory usage: 9.1+ MB\n"
     ]
    }
   ],
   "source": [
    "camden_merge.info()"
   ]
  },
  {
   "cell_type": "code",
   "execution_count": 16,
   "id": "7d1fdc7d-d512-4865-aac0-006d4d771792",
   "metadata": {},
   "outputs": [
    {
     "data": {
      "text/plain": [
       "<AxesSubplot:>"
      ]
     },
     "execution_count": 16,
     "metadata": {},
     "output_type": "execute_result"
    },
    {
     "data": {
      "image/png": "[encoded data removed]",
      "text/plain": [
       "<Figure size 432x288 with 1 Axes>"
      ]
     },
     "metadata": {
      "needs_background": "light"
     },
     "output_type": "display_data"
    }
   ],
   "source": [
    "camden_merge = camden_merge.set_geometry('geometry')\n",
    "camden_merge.plot(column = 'priceper')"
   ]
  },
  {
   "cell_type": "code",
   "execution_count": null,
   "id": "09b2d36d-fa3b-45cb-afb1-4a4ae903c53e",
   "metadata": {},
   "outputs": [],
   "source": []
  },
  {
   "cell_type": "code",
   "execution_count": 9,
   "id": "122f5336-fa1f-42ad-b3b5-3c6d2d8e753e",
   "metadata": {},
   "outputs": [
    {
     "data": {
      "text/html": [
       "<div>\n",
       "<style scoped>\n",
       "    .dataframe tbody tr th:only-of-type {\n",
       "        vertical-align: middle;\n",
       "    }\n",
       "\n",
       "    .dataframe tbody tr th {\n",
       "        vertical-align: top;\n",
       "    }\n",
       "\n",
       "    .dataframe thead th {\n",
       "        text-align: right;\n",
       "    }\n",
       "</style>\n",
       "<table border=\"1\" class=\"dataframe\">\n",
       "  <thead>\n",
       "    <tr style=\"text-align: right;\">\n",
       "      <th></th>\n",
       "      <th>transactionid</th>\n",
       "      <th>uprn</th>\n",
       "      <th>usrn</th>\n",
       "    </tr>\n",
       "  </thead>\n",
       "  <tbody>\n",
       "    <tr>\n",
       "      <th>0</th>\n",
       "      <td>{DD204FA6-B333-4A06-9E31-7ACABE162EB7}</td>\n",
       "      <td>30</td>\n",
       "      <td>4549897</td>\n",
       "    </tr>\n",
       "    <tr>\n",
       "      <th>1</th>\n",
       "      <td>{B26F0F8D-4C7A-4DBF-B10A-3336830BF462}</td>\n",
       "      <td>31</td>\n",
       "      <td>4549897</td>\n",
       "    </tr>\n",
       "    <tr>\n",
       "      <th>2</th>\n",
       "      <td>{241A4A53-DD8C-706B-E050-A8C06205638B}</td>\n",
       "      <td>63</td>\n",
       "      <td>4582546</td>\n",
       "    </tr>\n",
       "    <tr>\n",
       "      <th>3</th>\n",
       "      <td>{85866A64-627D-143F-E053-6B04A8C06A15}</td>\n",
       "      <td>97</td>\n",
       "      <td>4527985</td>\n",
       "    </tr>\n",
       "    <tr>\n",
       "      <th>4</th>\n",
       "      <td>{BE61D947-ED06-482E-8274-8B84912C15CB}</td>\n",
       "      <td>103</td>\n",
       "      <td>4527985</td>\n",
       "    </tr>\n",
       "  </tbody>\n",
       "</table>\n",
       "</div>"
      ],
      "text/plain": [
       "                            transactionid  uprn     usrn\n",
       "0  {DD204FA6-B333-4A06-9E31-7ACABE162EB7}    30  4549897\n",
       "1  {B26F0F8D-4C7A-4DBF-B10A-3336830BF462}    31  4549897\n",
       "2  {241A4A53-DD8C-706B-E050-A8C06205638B}    63  4582546\n",
       "3  {85866A64-627D-143F-E053-6B04A8C06A15}    97  4527985\n",
       "4  {BE61D947-ED06-482E-8274-8B84912C15CB}   103  4527985"
      ]
     },
     "execution_count": 9,
     "metadata": {},
     "output_type": "execute_result"
    }
   ],
   "source": [
    "pricepaid = pd.read_csv(\"Data/ppdiduprnusrnubdc.csv\")\n",
    "pricepaid.head()"
   ]
  },
  {
   "cell_type": "code",
   "execution_count": 4,
   "id": "efedad46-a5ea-41ff-8875-ba06e5a131cc",
   "metadata": {},
   "outputs": [],
   "source": [
    "hh = pd.read_excel(\"data/tenure - households.xlsx\", sheet_name = 3)"
   ]
  },
  {
   "cell_type": "code",
   "execution_count": 8,
   "id": "ac2aa44f-d7e1-4731-9d54-352b87e04039",
   "metadata": {},
   "outputs": [
    {
     "data": {
      "text/html": [
       "<div>\n",
       "<style scoped>\n",
       "    .dataframe tbody tr th:only-of-type {\n",
       "        vertical-align: middle;\n",
       "    }\n",
       "\n",
       "    .dataframe tbody tr th {\n",
       "        vertical-align: top;\n",
       "    }\n",
       "\n",
       "    .dataframe thead th {\n",
       "        text-align: right;\n",
       "    }\n",
       "</style>\n",
       "<table border=\"1\" class=\"dataframe\">\n",
       "  <thead>\n",
       "    <tr style=\"text-align: right;\">\n",
       "      <th></th>\n",
       "      <th>LSOA code</th>\n",
       "      <th>local authority code</th>\n",
       "      <th>local authority name</th>\n",
       "      <th>All Households</th>\n",
       "      <th>Owned outright</th>\n",
       "      <th>Owned with a mortgage or loan</th>\n",
       "      <th>Shared ownership</th>\n",
       "      <th>Rented from Local Authority</th>\n",
       "      <th>Other social rented</th>\n",
       "      <th>Private landlord or letting agency</th>\n",
       "      <th>Other private rented</th>\n",
       "      <th>Rent free</th>\n",
       "    </tr>\n",
       "  </thead>\n",
       "  <tbody>\n",
       "    <tr>\n",
       "      <th>0</th>\n",
       "      <td>E01000001</td>\n",
       "      <td>E09000001</td>\n",
       "      <td>City of London</td>\n",
       "      <td>843</td>\n",
       "      <td>338</td>\n",
       "      <td>144</td>\n",
       "      <td>3</td>\n",
       "      <td>17</td>\n",
       "      <td>4</td>\n",
       "      <td>283</td>\n",
       "      <td>53</td>\n",
       "      <td>1</td>\n",
       "    </tr>\n",
       "    <tr>\n",
       "      <th>1</th>\n",
       "      <td>E01000002</td>\n",
       "      <td>E09000001</td>\n",
       "      <td>City of London</td>\n",
       "      <td>825</td>\n",
       "      <td>283</td>\n",
       "      <td>149</td>\n",
       "      <td>2</td>\n",
       "      <td>23</td>\n",
       "      <td>6</td>\n",
       "      <td>324</td>\n",
       "      <td>38</td>\n",
       "      <td>0</td>\n",
       "    </tr>\n",
       "    <tr>\n",
       "      <th>2</th>\n",
       "      <td>E01000003</td>\n",
       "      <td>E09000001</td>\n",
       "      <td>City of London</td>\n",
       "      <td>1015</td>\n",
       "      <td>232</td>\n",
       "      <td>145</td>\n",
       "      <td>0</td>\n",
       "      <td>249</td>\n",
       "      <td>52</td>\n",
       "      <td>293</td>\n",
       "      <td>42</td>\n",
       "      <td>2</td>\n",
       "    </tr>\n",
       "    <tr>\n",
       "      <th>3</th>\n",
       "      <td>E01000005</td>\n",
       "      <td>E09000001</td>\n",
       "      <td>City of London</td>\n",
       "      <td>482</td>\n",
       "      <td>19</td>\n",
       "      <td>22</td>\n",
       "      <td>1</td>\n",
       "      <td>148</td>\n",
       "      <td>186</td>\n",
       "      <td>91</td>\n",
       "      <td>15</td>\n",
       "      <td>0</td>\n",
       "    </tr>\n",
       "    <tr>\n",
       "      <th>4</th>\n",
       "      <td>E01032739</td>\n",
       "      <td>E09000001</td>\n",
       "      <td>City of London</td>\n",
       "      <td>882</td>\n",
       "      <td>118</td>\n",
       "      <td>98</td>\n",
       "      <td>3</td>\n",
       "      <td>3</td>\n",
       "      <td>8</td>\n",
       "      <td>555</td>\n",
       "      <td>97</td>\n",
       "      <td>0</td>\n",
       "    </tr>\n",
       "  </tbody>\n",
       "</table>\n",
       "</div>"
      ],
      "text/plain": [
       "   LSOA code local authority code local authority name  All Households  \\\n",
       "0  E01000001            E09000001       City of London             843   \n",
       "1  E01000002            E09000001       City of London             825   \n",
       "2  E01000003            E09000001       City of London            1015   \n",
       "3  E01000005            E09000001       City of London             482   \n",
       "4  E01032739            E09000001       City of London             882   \n",
       "\n",
       "   Owned outright  Owned with a mortgage or loan  Shared ownership   \\\n",
       "0             338                            144                  3   \n",
       "1             283                            149                  2   \n",
       "2             232                            145                  0   \n",
       "3              19                             22                  1   \n",
       "4             118                             98                  3   \n",
       "\n",
       "   Rented from Local Authority  Other social rented  \\\n",
       "0                           17                    4   \n",
       "1                           23                    6   \n",
       "2                          249                   52   \n",
       "3                          148                  186   \n",
       "4                            3                    8   \n",
       "\n",
       "   Private landlord or letting agency  Other private rented  Rent free  \n",
       "0                                 283                    53          1  \n",
       "1                                 324                    38          0  \n",
       "2                                 293                    42          2  \n",
       "3                                  91                    15          0  \n",
       "4                                 555                    97          0  "
      ]
     },
     "execution_count": 8,
     "metadata": {},
     "output_type": "execute_result"
    }
   ],
   "source": [
    "hh.head()"
   ]
  },
  {
   "cell_type": "code",
   "execution_count": 7,
   "id": "099025b9-5647-4365-8bac-1e74c145cfda",
   "metadata": {},
   "outputs": [
    {
     "data": {
      "text/html": [
       "<div>\n",
       "<style scoped>\n",
       "    .dataframe tbody tr th:only-of-type {\n",
       "        vertical-align: middle;\n",
       "    }\n",
       "\n",
       "    .dataframe tbody tr th {\n",
       "        vertical-align: top;\n",
       "    }\n",
       "\n",
       "    .dataframe thead th {\n",
       "        text-align: right;\n",
       "    }\n",
       "</style>\n",
       "<table border=\"1\" class=\"dataframe\">\n",
       "  <thead>\n",
       "    <tr style=\"text-align: right;\">\n",
       "      <th></th>\n",
       "      <th>Local authority code</th>\n",
       "      <th>Local authority name</th>\n",
       "      <th>LSOA code</th>\n",
       "      <th>LSOA name</th>\n",
       "      <th>Year ending Dec 1995</th>\n",
       "      <th>Year ending Mar 1996</th>\n",
       "      <th>Year ending Jun 1996</th>\n",
       "      <th>Year ending Sep 1996</th>\n",
       "      <th>Year ending Dec 1996</th>\n",
       "      <th>Year ending Mar 1997</th>\n",
       "      <th>...</th>\n",
       "      <th>Year ending Sep 2020</th>\n",
       "      <th>Year ending Dec 2020</th>\n",
       "      <th>Year ending Mar 2021</th>\n",
       "      <th>Year ending Jun 2021</th>\n",
       "      <th>Year ending Sep 2021</th>\n",
       "      <th>Year ending Dec 2021</th>\n",
       "      <th>Year ending Mar 2022</th>\n",
       "      <th>Year ending Jun 2022</th>\n",
       "      <th>Year ending Sep 2022</th>\n",
       "      <th>Unnamed: 112</th>\n",
       "    </tr>\n",
       "  </thead>\n",
       "  <tbody>\n",
       "    <tr>\n",
       "      <th>0</th>\n",
       "      <td>E06000001</td>\n",
       "      <td>Hartlepool</td>\n",
       "      <td>E01011949</td>\n",
       "      <td>Hartlepool 009A</td>\n",
       "      <td>34750</td>\n",
       "      <td>34500</td>\n",
       "      <td>30500</td>\n",
       "      <td>30000</td>\n",
       "      <td>29950</td>\n",
       "      <td>29000</td>\n",
       "      <td>...</td>\n",
       "      <td>88000</td>\n",
       "      <td>88000</td>\n",
       "      <td>81500</td>\n",
       "      <td>80500</td>\n",
       "      <td>85500</td>\n",
       "      <td>100750</td>\n",
       "      <td>94000</td>\n",
       "      <td>119000</td>\n",
       "      <td>100000</td>\n",
       "      <td>NaN</td>\n",
       "    </tr>\n",
       "    <tr>\n",
       "      <th>1</th>\n",
       "      <td>E06000001</td>\n",
       "      <td>Hartlepool</td>\n",
       "      <td>E01011950</td>\n",
       "      <td>Hartlepool 008A</td>\n",
       "      <td>25000</td>\n",
       "      <td>25000</td>\n",
       "      <td>25300</td>\n",
       "      <td>25625</td>\n",
       "      <td>25000</td>\n",
       "      <td>24800</td>\n",
       "      <td>...</td>\n",
       "      <td>28500</td>\n",
       "      <td>30000</td>\n",
       "      <td>33000</td>\n",
       "      <td>47000</td>\n",
       "      <td>50079</td>\n",
       "      <td>50159</td>\n",
       "      <td>50159</td>\n",
       "      <td>47879</td>\n",
       "      <td>46439.5</td>\n",
       "      <td>NaN</td>\n",
       "    </tr>\n",
       "    <tr>\n",
       "      <th>2</th>\n",
       "      <td>E06000001</td>\n",
       "      <td>Hartlepool</td>\n",
       "      <td>E01011951</td>\n",
       "      <td>Hartlepool 007A</td>\n",
       "      <td>27000</td>\n",
       "      <td>27000</td>\n",
       "      <td>27250</td>\n",
       "      <td>28950</td>\n",
       "      <td>28500</td>\n",
       "      <td>28950</td>\n",
       "      <td>...</td>\n",
       "      <td>30000</td>\n",
       "      <td>50000</td>\n",
       "      <td>51500</td>\n",
       "      <td>53000</td>\n",
       "      <td>58573.5</td>\n",
       "      <td>60000</td>\n",
       "      <td>61499.5</td>\n",
       "      <td>61499.5</td>\n",
       "      <td>60000</td>\n",
       "      <td>NaN</td>\n",
       "    </tr>\n",
       "    <tr>\n",
       "      <th>3</th>\n",
       "      <td>E06000001</td>\n",
       "      <td>Hartlepool</td>\n",
       "      <td>E01011952</td>\n",
       "      <td>Hartlepool 002A</td>\n",
       "      <td>44500</td>\n",
       "      <td>44500</td>\n",
       "      <td>30000</td>\n",
       "      <td>26675</td>\n",
       "      <td>26000</td>\n",
       "      <td>25500</td>\n",
       "      <td>...</td>\n",
       "      <td>85000</td>\n",
       "      <td>85000</td>\n",
       "      <td>:</td>\n",
       "      <td>83500</td>\n",
       "      <td>83000</td>\n",
       "      <td>80000</td>\n",
       "      <td>76000</td>\n",
       "      <td>75000</td>\n",
       "      <td>75000</td>\n",
       "      <td>NaN</td>\n",
       "    </tr>\n",
       "    <tr>\n",
       "      <th>4</th>\n",
       "      <td>E06000001</td>\n",
       "      <td>Hartlepool</td>\n",
       "      <td>E01011953</td>\n",
       "      <td>Hartlepool 002B</td>\n",
       "      <td>22000</td>\n",
       "      <td>27000</td>\n",
       "      <td>27000</td>\n",
       "      <td>20600</td>\n",
       "      <td>20000</td>\n",
       "      <td>19500</td>\n",
       "      <td>...</td>\n",
       "      <td>:</td>\n",
       "      <td>:</td>\n",
       "      <td>:</td>\n",
       "      <td>:</td>\n",
       "      <td>:</td>\n",
       "      <td>90000</td>\n",
       "      <td>:</td>\n",
       "      <td>95000</td>\n",
       "      <td>92500</td>\n",
       "      <td>NaN</td>\n",
       "    </tr>\n",
       "  </tbody>\n",
       "</table>\n",
       "<p>5 rows × 113 columns</p>\n",
       "</div>"
      ],
      "text/plain": [
       "  Local authority code Local authority name  LSOA code        LSOA name  \\\n",
       "0            E06000001           Hartlepool  E01011949  Hartlepool 009A   \n",
       "1            E06000001           Hartlepool  E01011950  Hartlepool 008A   \n",
       "2            E06000001           Hartlepool  E01011951  Hartlepool 007A   \n",
       "3            E06000001           Hartlepool  E01011952  Hartlepool 002A   \n",
       "4            E06000001           Hartlepool  E01011953  Hartlepool 002B   \n",
       "\n",
       "  Year ending Dec 1995 Year ending Mar 1996 Year ending Jun 1996  \\\n",
       "0                34750                34500                30500   \n",
       "1                25000                25000                25300   \n",
       "2                27000                27000                27250   \n",
       "3                44500                44500                30000   \n",
       "4                22000                27000                27000   \n",
       "\n",
       "  Year ending Sep 1996 Year ending Dec 1996 Year ending Mar 1997  ...  \\\n",
       "0                30000                29950                29000  ...   \n",
       "1                25625                25000                24800  ...   \n",
       "2                28950                28500                28950  ...   \n",
       "3                26675                26000                25500  ...   \n",
       "4                20600                20000                19500  ...   \n",
       "\n",
       "  Year ending Sep 2020 Year ending Dec 2020 Year ending Mar 2021  \\\n",
       "0                88000                88000                81500   \n",
       "1                28500                30000                33000   \n",
       "2                30000                50000                51500   \n",
       "3                85000                85000                    :   \n",
       "4                    :                    :                    :   \n",
       "\n",
       "  Year ending Jun 2021 Year ending Sep 2021 Year ending Dec 2021  \\\n",
       "0                80500                85500               100750   \n",
       "1                47000                50079                50159   \n",
       "2                53000              58573.5                60000   \n",
       "3                83500                83000                80000   \n",
       "4                    :                    :                90000   \n",
       "\n",
       "  Year ending Mar 2022 Year ending Jun 2022 Year ending Sep 2022 Unnamed: 112  \n",
       "0                94000               119000               100000          NaN  \n",
       "1                50159                47879              46439.5          NaN  \n",
       "2              61499.5              61499.5                60000          NaN  \n",
       "3                76000                75000                75000          NaN  \n",
       "4                    :                95000                92500          NaN  \n",
       "\n",
       "[5 rows x 113 columns]"
      ]
     },
     "execution_count": 7,
     "metadata": {},
     "output_type": "execute_result"
    }
   ],
   "source": [
    "prop = pd.read_excel(\"data/HPSSA Dataset 46 - Median price paid for residential properties by LSOA.xls\", sheet_name = \"Data\", header = 5)\n",
    "prop.head()"
   ]
  },
  {
   "cell_type": "code",
   "execution_count": 16,
   "id": "db04e381-e461-4e4f-a355-203961da01b9",
   "metadata": {},
   "outputs": [
    {
     "data": {
      "text/plain": [
       "LSOA code               object\n",
       "Year ending Sep 2022    object\n",
       "dtype: object"
      ]
     },
     "execution_count": 16,
     "metadata": {},
     "output_type": "execute_result"
    }
   ],
   "source": [
    "prop[['LSOA code','Year ending Sep 2022']].dtypes"
   ]
  },
  {
   "cell_type": "code",
   "execution_count": 63,
   "id": "9a4905cd-9dbc-4a78-a64b-ef4bbb4e81e6",
   "metadata": {},
   "outputs": [
    {
     "data": {
      "text/html": [
       "<pre style=\"white-space:pre;overflow-x:auto;line-height:normal;font-family:Menlo,'DejaVu Sans Mono',consolas,'Courier New',monospace\"><span style=\"color: #008080; text-decoration-color: #008080; font-weight: bold\">13</span> column names have been cleaned\n",
       "</pre>\n"
      ],
      "text/plain": [
       "\u001b[1;36m13\u001b[0m column names have been cleaned\n"
      ]
     },
     "metadata": {},
     "output_type": "display_data"
    },
    {
     "data": {
      "text/html": [
       "<div>\n",
       "<style scoped>\n",
       "    .dataframe tbody tr th:only-of-type {\n",
       "        vertical-align: middle;\n",
       "    }\n",
       "\n",
       "    .dataframe tbody tr th {\n",
       "        vertical-align: top;\n",
       "    }\n",
       "\n",
       "    .dataframe thead th {\n",
       "        text-align: right;\n",
       "    }\n",
       "</style>\n",
       "<table border=\"1\" class=\"dataframe\">\n",
       "  <thead>\n",
       "    <tr style=\"text-align: right;\">\n",
       "      <th></th>\n",
       "      <th>lsoa_code</th>\n",
       "      <th>local_authority_code</th>\n",
       "      <th>local_authority_name</th>\n",
       "      <th>all_households</th>\n",
       "      <th>owned_outright</th>\n",
       "      <th>owned_with_a_mortgage_or_loan</th>\n",
       "      <th>shared_ownership</th>\n",
       "      <th>rented_from_local_authority</th>\n",
       "      <th>other_social_rented</th>\n",
       "      <th>private_landlord_or_letting_agency</th>\n",
       "      <th>other_private_rented</th>\n",
       "      <th>rent_free</th>\n",
       "      <th>year_ending_sep_2022</th>\n",
       "    </tr>\n",
       "  </thead>\n",
       "  <tbody>\n",
       "    <tr>\n",
       "      <th>0</th>\n",
       "      <td>E01000001</td>\n",
       "      <td>E09000001</td>\n",
       "      <td>City of London</td>\n",
       "      <td>843</td>\n",
       "      <td>338</td>\n",
       "      <td>144</td>\n",
       "      <td>3</td>\n",
       "      <td>17</td>\n",
       "      <td>4</td>\n",
       "      <td>283</td>\n",
       "      <td>53</td>\n",
       "      <td>1</td>\n",
       "      <td>827500</td>\n",
       "    </tr>\n",
       "    <tr>\n",
       "      <th>1</th>\n",
       "      <td>E01000002</td>\n",
       "      <td>E09000001</td>\n",
       "      <td>City of London</td>\n",
       "      <td>825</td>\n",
       "      <td>283</td>\n",
       "      <td>149</td>\n",
       "      <td>2</td>\n",
       "      <td>23</td>\n",
       "      <td>6</td>\n",
       "      <td>324</td>\n",
       "      <td>38</td>\n",
       "      <td>0</td>\n",
       "      <td>815000</td>\n",
       "    </tr>\n",
       "    <tr>\n",
       "      <th>2</th>\n",
       "      <td>E01000003</td>\n",
       "      <td>E09000001</td>\n",
       "      <td>City of London</td>\n",
       "      <td>1015</td>\n",
       "      <td>232</td>\n",
       "      <td>145</td>\n",
       "      <td>0</td>\n",
       "      <td>249</td>\n",
       "      <td>52</td>\n",
       "      <td>293</td>\n",
       "      <td>42</td>\n",
       "      <td>2</td>\n",
       "      <td>540000</td>\n",
       "    </tr>\n",
       "    <tr>\n",
       "      <th>3</th>\n",
       "      <td>E01000005</td>\n",
       "      <td>E09000001</td>\n",
       "      <td>City of London</td>\n",
       "      <td>482</td>\n",
       "      <td>19</td>\n",
       "      <td>22</td>\n",
       "      <td>1</td>\n",
       "      <td>148</td>\n",
       "      <td>186</td>\n",
       "      <td>91</td>\n",
       "      <td>15</td>\n",
       "      <td>0</td>\n",
       "      <td>:</td>\n",
       "    </tr>\n",
       "    <tr>\n",
       "      <th>4</th>\n",
       "      <td>E01032739</td>\n",
       "      <td>E09000001</td>\n",
       "      <td>City of London</td>\n",
       "      <td>882</td>\n",
       "      <td>118</td>\n",
       "      <td>98</td>\n",
       "      <td>3</td>\n",
       "      <td>3</td>\n",
       "      <td>8</td>\n",
       "      <td>555</td>\n",
       "      <td>97</td>\n",
       "      <td>0</td>\n",
       "      <td>645000</td>\n",
       "    </tr>\n",
       "  </tbody>\n",
       "</table>\n",
       "</div>"
      ],
      "text/plain": [
       "   lsoa_code local_authority_code local_authority_name  all_households  \\\n",
       "0  E01000001            E09000001       City of London             843   \n",
       "1  E01000002            E09000001       City of London             825   \n",
       "2  E01000003            E09000001       City of London            1015   \n",
       "3  E01000005            E09000001       City of London             482   \n",
       "4  E01032739            E09000001       City of London             882   \n",
       "\n",
       "   owned_outright  owned_with_a_mortgage_or_loan  shared_ownership  \\\n",
       "0             338                            144                 3   \n",
       "1             283                            149                 2   \n",
       "2             232                            145                 0   \n",
       "3              19                             22                 1   \n",
       "4             118                             98                 3   \n",
       "\n",
       "   rented_from_local_authority  other_social_rented  \\\n",
       "0                           17                    4   \n",
       "1                           23                    6   \n",
       "2                          249                   52   \n",
       "3                          148                  186   \n",
       "4                            3                    8   \n",
       "\n",
       "   private_landlord_or_letting_agency  other_private_rented  rent_free  \\\n",
       "0                                 283                    53          1   \n",
       "1                                 324                    38          0   \n",
       "2                                 293                    42          2   \n",
       "3                                  91                    15          0   \n",
       "4                                 555                    97          0   \n",
       "\n",
       "  year_ending_sep_2022  \n",
       "0               827500  \n",
       "1               815000  \n",
       "2               540000  \n",
       "3                    :  \n",
       "4               645000  "
      ]
     },
     "execution_count": 63,
     "metadata": {},
     "output_type": "execute_result"
    }
   ],
   "source": [
    "hh_prop = pd.merge(hh, prop[['LSOA code','Year ending Sep 2022']], left_on = \"LSOA code\", right_on =\"LSOA code\", how = \"left\")\n",
    "hh_prop = clean_columns(hh_prop)\n",
    "hh_prop.head()"
   ]
  },
  {
   "cell_type": "code",
   "execution_count": 64,
   "id": "285f8a4e-4351-431c-8bc7-ad6aa7174d5c",
   "metadata": {},
   "outputs": [
    {
     "name": "stdout",
     "output_type": "stream",
     "text": [
      "<class 'pandas.core.frame.DataFrame'>\n",
      "Int64Index: 4994 entries, 0 to 4993\n",
      "Data columns (total 13 columns):\n",
      " #   Column                              Non-Null Count  Dtype \n",
      "---  ------                              --------------  ----- \n",
      " 0   lsoa_code                           4994 non-null   object\n",
      " 1   local_authority_code                4994 non-null   object\n",
      " 2   local_authority_name                4994 non-null   object\n",
      " 3   all_households                      4994 non-null   int64 \n",
      " 4   owned_outright                      4994 non-null   int64 \n",
      " 5   owned_with_a_mortgage_or_loan       4994 non-null   int64 \n",
      " 6   shared_ownership                    4994 non-null   int64 \n",
      " 7   rented_from_local_authority         4994 non-null   int64 \n",
      " 8   other_social_rented                 4994 non-null   int64 \n",
      " 9   private_landlord_or_letting_agency  4994 non-null   int64 \n",
      " 10  other_private_rented                4994 non-null   int64 \n",
      " 11  rent_free                           4994 non-null   int64 \n",
      " 12  year_ending_sep_2022                4659 non-null   object\n",
      "dtypes: int64(9), object(4)\n",
      "memory usage: 546.2+ KB\n"
     ]
    }
   ],
   "source": [
    "hh_prop.info()"
   ]
  },
  {
   "cell_type": "code",
   "execution_count": 65,
   "id": "09b191c1-26f9-4952-8a75-e2af6d7fa363",
   "metadata": {},
   "outputs": [
    {
     "name": "stdout",
     "output_type": "stream",
     "text": [
      "<class 'pandas.core.frame.DataFrame'>\n",
      "Int64Index: 4248 entries, 0 to 4985\n",
      "Data columns (total 13 columns):\n",
      " #   Column                              Non-Null Count  Dtype  \n",
      "---  ------                              --------------  -----  \n",
      " 0   lsoa_code                           4248 non-null   object \n",
      " 1   local_authority_code                4248 non-null   object \n",
      " 2   local_authority_name                4248 non-null   object \n",
      " 3   all_households                      4248 non-null   int64  \n",
      " 4   owned_outright                      4248 non-null   int64  \n",
      " 5   owned_with_a_mortgage_or_loan       4248 non-null   int64  \n",
      " 6   shared_ownership                    4248 non-null   int64  \n",
      " 7   rented_from_local_authority         4248 non-null   int64  \n",
      " 8   other_social_rented                 4248 non-null   int64  \n",
      " 9   private_landlord_or_letting_agency  4248 non-null   int64  \n",
      " 10  other_private_rented                4248 non-null   int64  \n",
      " 11  rent_free                           4248 non-null   int64  \n",
      " 12  year_ending_sep_2022                4248 non-null   float64\n",
      "dtypes: float64(1), int64(9), object(3)\n",
      "memory usage: 464.6+ KB\n"
     ]
    }
   ],
   "source": [
    "hh_prop['year_ending_sep_2022'] = pd.to_numeric(hh_prop['year_ending_sep_2022'],errors = 'coerce')\n",
    "hh_prop.dropna(inplace=True)\n",
    "hh_prop.info()"
   ]
  },
  {
   "cell_type": "code",
   "execution_count": 66,
   "id": "29b1ac50-63a5-47d5-ab70-1873d2b89589",
   "metadata": {},
   "outputs": [
    {
     "data": {
      "text/plain": [
       "Index(['lsoa_code', 'local_authority_code', 'local_authority_name',\n",
       "       'all_households', 'owned_outright', 'owned_with_a_mortgage_or_loan',\n",
       "       'shared_ownership', 'rented_from_local_authority',\n",
       "       'other_social_rented', 'private_landlord_or_letting_agency',\n",
       "       'other_private_rented', 'rent_free', 'year_ending_sep_2022'],\n",
       "      dtype='object')"
      ]
     },
     "execution_count": 66,
     "metadata": {},
     "output_type": "execute_result"
    }
   ],
   "source": [
    "hh_prop.columns"
   ]
  },
  {
   "cell_type": "code",
   "execution_count": 67,
   "id": "3e8b396d-cb25-4009-9ea5-83d763836760",
   "metadata": {},
   "outputs": [],
   "source": [
    "hh_prop = hh_prop.drop(['lsoa_code', 'local_authority_code'], axis = 1)"
   ]
  },
  {
   "cell_type": "code",
   "execution_count": 68,
   "id": "4b9f24f8-0159-4233-ae47-824de084c2d8",
   "metadata": {},
   "outputs": [],
   "source": [
    "random_state_split = 100\n",
    "train_x, test_x, train_y, test_y = train_test_split(hh_prop.drop(['year_ending_sep_2022'], axis = 1), hh_prop.year_ending_sep_2022, random_state=random_state_split)"
   ]
  },
  {
   "cell_type": "code",
   "execution_count": 70,
   "id": "fb9cf597-e6e7-418f-b130-058cba1f75e1",
   "metadata": {},
   "outputs": [
    {
     "data": {
      "text/plain": [
       "Index(['local_authority_name', 'all_households', 'owned_outright',\n",
       "       'owned_with_a_mortgage_or_loan', 'shared_ownership',\n",
       "       'rented_from_local_authority', 'other_social_rented',\n",
       "       'private_landlord_or_letting_agency', 'other_private_rented',\n",
       "       'rent_free', 'year_ending_sep_2022'],\n",
       "      dtype='object')"
      ]
     },
     "execution_count": 70,
     "metadata": {},
     "output_type": "execute_result"
    }
   ],
   "source": [
    "hh_prop.columns"
   ]
  },
  {
   "cell_type": "code",
   "execution_count": 69,
   "id": "5a27ef96-72c7-4a27-87bb-62fea1d9a9e7",
   "metadata": {},
   "outputs": [],
   "source": [
    "# The missing values of a numeric feature will be replaced by the 'mean' value of the feature.\n",
    "# The missing values of a categorical feature will be replaced by the a 'constant' value. If 'constant' value is not specified, it is default at '0' for numerical data or 'np.nan' for categorical data.\n",
    "\n",
    "numeric_transformer = Pipeline(steps=[\n",
    "       ('imputer', SimpleImputer(strategy='mean'))\n",
    "      ,('scaler', StandardScaler())\n",
    "])\n",
    "categorical_transformer = Pipeline(steps=[\n",
    "       ('imputer', SimpleImputer(strategy='constant'))\n",
    "      ,('encoder', OneHotEncoder(drop='first'))\n",
    "])"
   ]
  },
  {
   "cell_type": "code",
   "execution_count": 71,
   "id": "6be1bac1-0525-44b2-9ca5-b8f24cdb0a09",
   "metadata": {},
   "outputs": [],
   "source": [
    "numeric_features = ['all_households', 'owned_outright',\n",
    "       'owned_with_a_mortgage_or_loan', 'shared_ownership',\n",
    "       'rented_from_local_authority', 'other_social_rented',\n",
    "       'private_landlord_or_letting_agency', 'other_private_rented',\n",
    "       'rent_free']\n",
    "categorical_features = ['local_authority_name']\n",
    "preprocessor = ColumnTransformer(\n",
    "   transformers=[\n",
    "    ('numeric', numeric_transformer, numeric_features)\n",
    "   ,('categorical', categorical_transformer, categorical_features)\n",
    "])"
   ]
  },
  {
   "cell_type": "code",
   "execution_count": 72,
   "id": "2765ed8f-a4c9-4684-86d2-4357f01285a0",
   "metadata": {},
   "outputs": [],
   "source": [
    "pipeline = Pipeline(steps = [\n",
    "   ('preprocessor', preprocessor),\n",
    "   ('regressor',DecisionTreeRegressor())\n",
    "])"
   ]
  },
  {
   "cell_type": "code",
   "execution_count": 73,
   "id": "eb88a063-9e5c-400b-af50-31f7058b0b0a",
   "metadata": {},
   "outputs": [
    {
     "name": "stdout",
     "output_type": "stream",
     "text": [
      "Pipeline(steps=[('preprocessor',\n",
      "                 ColumnTransformer(transformers=[('numeric',\n",
      "                                                  Pipeline(steps=[('imputer',\n",
      "                                                                   SimpleImputer()),\n",
      "                                                                  ('scaler',\n",
      "                                                                   StandardScaler())]),\n",
      "                                                  ['all_households',\n",
      "                                                   'owned_outright',\n",
      "                                                   'owned_with_a_mortgage_or_loan',\n",
      "                                                   'shared_ownership',\n",
      "                                                   'rented_from_local_authority',\n",
      "                                                   'other_social_rented',\n",
      "                                                   'private_landlord_or_letting_agency',\n",
      "                                                   'other_private_rented',\n",
      "                                                   'rent_free']),\n",
      "                                                 ('categorical',\n",
      "                                                  Pipeline(steps=[('imputer',\n",
      "                                                                   SimpleImputer(strategy='constant')),\n",
      "                                                                  ('encoder',\n",
      "                                                                   OneHotEncoder(drop='first'))]),\n",
      "                                                  ['local_authority_name'])])),\n",
      "                ('regressor', DecisionTreeRegressor())])\n"
     ]
    }
   ],
   "source": [
    "cart_model = pipeline.fit(train_x, train_y)\n",
    "# this will visualise the pipeline\n",
    "print(cart_model)"
   ]
  },
  {
   "cell_type": "code",
   "execution_count": 74,
   "id": "1c390c1e-b01c-4d4e-b6f8-11e0bdfd9629",
   "metadata": {},
   "outputs": [
    {
     "name": "stdout",
     "output_type": "stream",
     "text": [
      "RMSE on the training data:\n",
      "0.0\n",
      "RMSE on the testing data:\n",
      "375204.5288037771\n"
     ]
    }
   ],
   "source": [
    "print(\"RMSE on the training data:\")\n",
    "print(mean_squared_error(train_y, cart_model.predict(train_x), squared=False))\n",
    "print(\"RMSE on the testing data:\")\n",
    "print(mean_squared_error(test_y, cart_model.predict(test_x), squared=False))"
   ]
  },
  {
   "cell_type": "code",
   "execution_count": 75,
   "id": "6941d7cf-2725-475f-8a38-31b9c23709d7",
   "metadata": {},
   "outputs": [
    {
     "name": "stdout",
     "output_type": "stream",
     "text": [
      "R2 on the training data:\n",
      "1.0\n",
      "R2 on the testing data:\n",
      "0.21370862745903274\n"
     ]
    }
   ],
   "source": [
    "print(\"R2 on the training data:\")\n",
    "print(r2_score(train_y, cart_model.predict(train_x)))\n",
    "print(\"R2 on the testing data:\")\n",
    "print(r2_score(test_y, cart_model.predict(test_x)))"
   ]
  },
  {
   "cell_type": "code",
   "execution_count": 76,
   "id": "d2de24e6-5d65-4340-bf9f-4f948d1ffa0a",
   "metadata": {},
   "outputs": [
    {
     "name": "stdout",
     "output_type": "stream",
     "text": [
      "Best R2 Score:  0.1981665656064094\n",
      "Best Params:  {'regressor__max_depth': 10, 'regressor__min_samples_split': 10}\n"
     ]
    }
   ],
   "source": [
    "# we fix the random_state in DecisionTreeRegressor() so that the result of GridSearchCV is the same in different runs\n",
    "cart_pipeline = Pipeline(steps = [\n",
    "  ('preprocessor', preprocessor),\n",
    "  ('regressor', DecisionTreeRegressor(random_state=123))\n",
    "])\n",
    "\n",
    "cart_pipeline.fit(train_x, train_y)\n",
    "# in order to change the model, needs to be changed in cart_pipeline and grid_params\n",
    "# grid_params is the range of each hyperparameter\n",
    "grid_params = {\n",
    "  'regressor__max_depth': [10,20,30,40,50], \n",
    "  'regressor__min_samples_split': [2,4,6,8,10]\n",
    "}\n",
    "search = GridSearchCV(cart_pipeline, grid_params)\n",
    "search.fit(train_x, train_y)\n",
    "print(\"Best R2 Score: \", search.best_score_)\n",
    "print(\"Best Params: \", search.best_params_)"
   ]
  },
  {
   "cell_type": "code",
   "execution_count": 77,
   "id": "350ea030-8a8f-43c4-9479-0d2db2d364a2",
   "metadata": {},
   "outputs": [
    {
     "data": {
      "text/html": [
       "<div>\n",
       "<style scoped>\n",
       "    .dataframe tbody tr th:only-of-type {\n",
       "        vertical-align: middle;\n",
       "    }\n",
       "\n",
       "    .dataframe tbody tr th {\n",
       "        vertical-align: top;\n",
       "    }\n",
       "\n",
       "    .dataframe thead th {\n",
       "        text-align: right;\n",
       "    }\n",
       "</style>\n",
       "<table border=\"1\" class=\"dataframe\">\n",
       "  <thead>\n",
       "    <tr style=\"text-align: right;\">\n",
       "      <th></th>\n",
       "      <th>R2_train_data</th>\n",
       "      <th>R2_test_data</th>\n",
       "      <th>R2_diff</th>\n",
       "    </tr>\n",
       "  </thead>\n",
       "  <tbody>\n",
       "    <tr>\n",
       "      <th>Linear</th>\n",
       "      <td>0.430968</td>\n",
       "      <td>0.480808</td>\n",
       "      <td>-0.049841</td>\n",
       "    </tr>\n",
       "    <tr>\n",
       "      <th>CART</th>\n",
       "      <td>1.000000</td>\n",
       "      <td>0.283514</td>\n",
       "      <td>0.716486</td>\n",
       "    </tr>\n",
       "    <tr>\n",
       "      <th>RF</th>\n",
       "      <td>0.923672</td>\n",
       "      <td>0.584722</td>\n",
       "      <td>0.338950</td>\n",
       "    </tr>\n",
       "    <tr>\n",
       "      <th>XGB</th>\n",
       "      <td>0.972459</td>\n",
       "      <td>0.549990</td>\n",
       "      <td>0.422469</td>\n",
       "    </tr>\n",
       "  </tbody>\n",
       "</table>\n",
       "</div>"
      ],
      "text/plain": [
       "        R2_train_data  R2_test_data   R2_diff\n",
       "Linear       0.430968      0.480808 -0.049841\n",
       "CART         1.000000      0.283514  0.716486\n",
       "RF           0.923672      0.584722  0.338950\n",
       "XGB          0.972459      0.549990  0.422469"
      ]
     },
     "execution_count": 77,
     "metadata": {},
     "output_type": "execute_result"
    }
   ],
   "source": [
    "regressors = {\n",
    "    'Linear': LinearRegression(),\n",
    "    'CART': DecisionTreeRegressor(),\n",
    "    'RF': RandomForestRegressor(),\n",
    "    'XGB': XGBRegressor()\n",
    "}\n",
    "\n",
    "# a dict to store the R2 of training and testing data\n",
    "dict_results = dict()\n",
    "\n",
    "for name, regressor in regressors.items():\n",
    "    pipeline = Pipeline(steps = [\n",
    "               ('preprocessor', preprocessor)\n",
    "              ,('regressor', regressor)\n",
    "           ])\n",
    "    model = pipeline.fit(train_x, train_y)\n",
    "    predictions = model.predict(test_x)\n",
    "    dict_results[name] = [model.score(train_x, train_y), model.score(test_x, test_y), model.score(train_x, train_y) - model.score(test_x, test_y)]\n",
    "\n",
    "# transform dict_models to dataframe\n",
    "df_models = pd.DataFrame.from_dict(dict_results, orient='index', columns=['R2_train_data', 'R2_test_data', 'R2_diff'])\n",
    "df_models"
   ]
  },
  {
   "cell_type": "markdown",
   "id": "f8dead93-6984-40c3-94a2-2271621289ec",
   "metadata": {},
   "source": [
    "Methodology "
   ]
  },
  {
   "cell_type": "markdown",
   "id": "aa3f15c6-ac46-4ea1-9500-95bac68546f8",
   "metadata": {},
   "source": [
    "Results "
   ]
  },
  {
   "cell_type": "markdown",
   "id": "88b1a2c2-e7c3-43cd-bf50-8c4c53851f02",
   "metadata": {},
   "source": [
    "Discussion "
   ]
  },
  {
   "cell_type": "markdown",
   "id": "00cb5242-09fa-4d2f-b91b-2311a756d5a6",
   "metadata": {},
   "source": [
    "Conclusion "
   ]
  }
 ],
 "metadata": {
  "kernelspec": {
   "display_name": "Python 3 (ipykernel)",
   "language": "python",
   "name": "python3"
  },
  "language_info": {
   "codemirror_mode": {
    "name": "ipython",
    "version": 3
   },
   "file_extension": ".py",
   "mimetype": "text/x-python",
   "name": "python",
   "nbconvert_exporter": "python",
   "pygments_lexer": "ipython3",
   "version": "3.10.5"
  }
 },
 "nbformat": 4,
 "nbformat_minor": 5
}
